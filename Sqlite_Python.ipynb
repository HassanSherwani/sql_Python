{
 "cells": [
  {
   "cell_type": "markdown",
   "metadata": {},
   "source": [
    "# Using SQL with Python "
   ]
  },
  {
   "cell_type": "markdown",
   "metadata": {},
   "source": [
    "# 1)- Imorting key modules"
   ]
  },
  {
   "cell_type": "code",
   "execution_count": 1,
   "metadata": {},
   "outputs": [],
   "source": [
    "#support both Python 2 and Python 3 with minimal overhead.\n",
    "from __future__ import absolute_import, division, print_function\n",
    "import warnings\n",
    "warnings.filterwarnings('ignore')"
   ]
  },
  {
   "cell_type": "code",
   "execution_count": 2,
   "metadata": {},
   "outputs": [],
   "source": [
    "import numpy as np\n",
    "import pandas as pd\n",
    "# for sql\n",
    "\n",
    "from pandas.io import sql\n",
    "import sqlite3\n",
    "#for visuals\n",
    "%matplotlib inline\n",
    "import matplotlib.pyplot as plt\n",
    "pd.set_option('max_columns', 50)"
   ]
  },
  {
   "cell_type": "markdown",
   "metadata": {},
   "source": [
    "# 2)- Loading dataset"
   ]
  },
  {
   "cell_type": "markdown",
   "metadata": {},
   "source": [
    "### Clipboard"
   ]
  },
  {
   "cell_type": "code",
   "execution_count": 3,
   "metadata": {},
   "outputs": [
    {
     "data": {
      "text/html": [
       "<div>\n",
       "<style scoped>\n",
       "    .dataframe tbody tr th:only-of-type {\n",
       "        vertical-align: middle;\n",
       "    }\n",
       "\n",
       "    .dataframe tbody tr th {\n",
       "        vertical-align: top;\n",
       "    }\n",
       "\n",
       "    .dataframe thead th {\n",
       "        text-align: right;\n",
       "    }\n",
       "</style>\n",
       "<table border=\"1\" class=\"dataframe\">\n",
       "  <thead>\n",
       "    <tr style=\"text-align: right;\">\n",
       "      <th></th>\n",
       "      <th></th>\n",
       "      <th></th>\n",
       "      <th>by_weekday_hour.unstack(0).plot(figsize=(16,8))</th>\n",
       "    </tr>\n",
       "  </thead>\n",
       "  <tbody>\n",
       "    <tr>\n",
       "      <th>plt.title('Trips</th>\n",
       "      <th>by</th>\n",
       "      <th>weekday</th>\n",
       "      <td>hour')</td>\n",
       "    </tr>\n",
       "    <tr>\n",
       "      <th>plt.ylabel('#</th>\n",
       "      <th>of</th>\n",
       "      <th>trips</th>\n",
       "      <td>started')</td>\n",
       "    </tr>\n",
       "    <tr>\n",
       "      <th>plt.xlabel('Hour</th>\n",
       "      <th>of</th>\n",
       "      <th>day')</th>\n",
       "      <td>None</td>\n",
       "    </tr>\n",
       "    <tr>\n",
       "      <th>plt.xticks(range(24))</th>\n",
       "      <th>NaN</th>\n",
       "      <th>NaN</th>\n",
       "      <td>None</td>\n",
       "    </tr>\n",
       "    <tr>\n",
       "      <th>plt.xlim(0,</th>\n",
       "      <th>23);</th>\n",
       "      <th>NaN</th>\n",
       "      <td>None</td>\n",
       "    </tr>\n",
       "  </tbody>\n",
       "</table>\n",
       "</div>"
      ],
      "text/plain": [
       "                                   by_weekday_hour.unstack(0).plot(figsize=(16,8))\n",
       "plt.title('Trips      by   weekday                                          hour')\n",
       "plt.ylabel('#         of   trips                                         started')\n",
       "plt.xlabel('Hour      of   day')                                              None\n",
       "plt.xticks(range(24)) NaN  NaN                                                None\n",
       "plt.xlim(0,           23); NaN                                                None"
      ]
     },
     "execution_count": 3,
     "metadata": {},
     "output_type": "execute_result"
    }
   ],
   "source": [
    "clip = pd.read_clipboard()\n",
    "clip.head()"
   ]
  },
  {
   "cell_type": "code",
   "execution_count": 4,
   "metadata": {},
   "outputs": [
    {
     "data": {
      "text/plain": [
       "Index(['date', 'make', 'style', 'model', 'color', 'plate', 'state', 'towed_to',\n",
       "       'facility_phone', 'inventory_num'],\n",
       "      dtype='object')"
      ]
     },
     "execution_count": 4,
     "metadata": {},
     "output_type": "execute_result"
    }
   ],
   "source": [
    "# loading .db file\n",
    "conn = sqlite3.connect('towed.db')\n",
    "query = \"SELECT * FROM towed\"\n",
    "towed = sql.read_sql(query, con=conn, parse_dates={'date':'%m/%d/%Y'})\n",
    "towed.columns"
   ]
  },
  {
   "cell_type": "code",
   "execution_count": 5,
   "metadata": {},
   "outputs": [
    {
     "data": {
      "text/plain": [
       "(5065, 10)"
      ]
     },
     "execution_count": 5,
     "metadata": {},
     "output_type": "execute_result"
    }
   ],
   "source": [
    "towed.shape"
   ]
  },
  {
   "cell_type": "code",
   "execution_count": 6,
   "metadata": {},
   "outputs": [
    {
     "data": {
      "text/html": [
       "<div>\n",
       "<style scoped>\n",
       "    .dataframe tbody tr th:only-of-type {\n",
       "        vertical-align: middle;\n",
       "    }\n",
       "\n",
       "    .dataframe tbody tr th {\n",
       "        vertical-align: top;\n",
       "    }\n",
       "\n",
       "    .dataframe thead th {\n",
       "        text-align: right;\n",
       "    }\n",
       "</style>\n",
       "<table border=\"1\" class=\"dataframe\">\n",
       "  <thead>\n",
       "    <tr style=\"text-align: right;\">\n",
       "      <th></th>\n",
       "      <th>date</th>\n",
       "      <th>make</th>\n",
       "      <th>style</th>\n",
       "      <th>model</th>\n",
       "      <th>color</th>\n",
       "      <th>plate</th>\n",
       "      <th>state</th>\n",
       "      <th>towed_to</th>\n",
       "      <th>facility_phone</th>\n",
       "      <th>inventory_num</th>\n",
       "    </tr>\n",
       "  </thead>\n",
       "  <tbody>\n",
       "    <tr>\n",
       "      <th>0</th>\n",
       "      <td>2014-11-18</td>\n",
       "      <td>FORD</td>\n",
       "      <td>LL</td>\n",
       "      <td></td>\n",
       "      <td>BLK</td>\n",
       "      <td>S105053</td>\n",
       "      <td>IL</td>\n",
       "      <td>10300 S. Doty</td>\n",
       "      <td>(773) 568-8495</td>\n",
       "      <td>2750424</td>\n",
       "    </tr>\n",
       "    <tr>\n",
       "      <th>1</th>\n",
       "      <td>2014-11-18</td>\n",
       "      <td>HOND</td>\n",
       "      <td>4D</td>\n",
       "      <td>ACC</td>\n",
       "      <td>BLK</td>\n",
       "      <td>S415270</td>\n",
       "      <td>IL</td>\n",
       "      <td>400 E. Lower Wacker</td>\n",
       "      <td>(312) 744-7550</td>\n",
       "      <td>917129</td>\n",
       "    </tr>\n",
       "    <tr>\n",
       "      <th>2</th>\n",
       "      <td>2014-11-18</td>\n",
       "      <td>CHRY</td>\n",
       "      <td>VN</td>\n",
       "      <td></td>\n",
       "      <td>SIL</td>\n",
       "      <td>V847641</td>\n",
       "      <td>IL</td>\n",
       "      <td>701 N. Sacramento</td>\n",
       "      <td>(773) 265-7605</td>\n",
       "      <td>6798366</td>\n",
       "    </tr>\n",
       "    <tr>\n",
       "      <th>3</th>\n",
       "      <td>2014-11-18</td>\n",
       "      <td>HYUN</td>\n",
       "      <td>4D</td>\n",
       "      <td></td>\n",
       "      <td>SIL</td>\n",
       "      <td>N756530</td>\n",
       "      <td>IL</td>\n",
       "      <td>400 E. Lower Wacker</td>\n",
       "      <td>(312) 744-7550</td>\n",
       "      <td>917127</td>\n",
       "    </tr>\n",
       "    <tr>\n",
       "      <th>4</th>\n",
       "      <td>2014-11-18</td>\n",
       "      <td>TOYT</td>\n",
       "      <td>4D</td>\n",
       "      <td></td>\n",
       "      <td>WHI</td>\n",
       "      <td>K702211</td>\n",
       "      <td>IL</td>\n",
       "      <td>400 E. Lower Wacker</td>\n",
       "      <td>(312) 744-7550</td>\n",
       "      <td>917128</td>\n",
       "    </tr>\n",
       "  </tbody>\n",
       "</table>\n",
       "</div>"
      ],
      "text/plain": [
       "        date  make style model color    plate state             towed_to  \\\n",
       "0 2014-11-18  FORD    LL         BLK  S105053    IL        10300 S. Doty   \n",
       "1 2014-11-18  HOND    4D   ACC   BLK  S415270    IL  400 E. Lower Wacker   \n",
       "2 2014-11-18  CHRY    VN         SIL  V847641    IL    701 N. Sacramento   \n",
       "3 2014-11-18  HYUN    4D         SIL  N756530    IL  400 E. Lower Wacker   \n",
       "4 2014-11-18  TOYT    4D         WHI  K702211    IL  400 E. Lower Wacker   \n",
       "\n",
       "    facility_phone  inventory_num  \n",
       "0  (773) 568-8495         2750424  \n",
       "1   (312) 744-7550         917129  \n",
       "2   (773) 265-7605        6798366  \n",
       "3   (312) 744-7550         917127  \n",
       "4   (312) 744-7550         917128  "
      ]
     },
     "execution_count": 6,
     "metadata": {},
     "output_type": "execute_result"
    }
   ],
   "source": [
    "towed.head()"
   ]
  },
  {
   "cell_type": "markdown",
   "metadata": {},
   "source": [
    "# 3)- Data  Exploring"
   ]
  },
  {
   "cell_type": "code",
   "execution_count": 7,
   "metadata": {},
   "outputs": [
    {
     "data": {
      "text/html": [
       "<div>\n",
       "<style scoped>\n",
       "    .dataframe tbody tr th:only-of-type {\n",
       "        vertical-align: middle;\n",
       "    }\n",
       "\n",
       "    .dataframe tbody tr th {\n",
       "        vertical-align: top;\n",
       "    }\n",
       "\n",
       "    .dataframe thead th {\n",
       "        text-align: right;\n",
       "    }\n",
       "</style>\n",
       "<table border=\"1\" class=\"dataframe\">\n",
       "  <thead>\n",
       "    <tr style=\"text-align: right;\">\n",
       "      <th></th>\n",
       "      <th>date</th>\n",
       "      <th>make</th>\n",
       "      <th>style</th>\n",
       "      <th>model</th>\n",
       "      <th>color</th>\n",
       "      <th>plate</th>\n",
       "      <th>state</th>\n",
       "      <th>towed_to</th>\n",
       "      <th>facility_phone</th>\n",
       "      <th>inventory_num</th>\n",
       "    </tr>\n",
       "  </thead>\n",
       "  <tbody>\n",
       "    <tr>\n",
       "      <th>100</th>\n",
       "      <td>2014-11-18</td>\n",
       "      <td>FORD</td>\n",
       "      <td>4D</td>\n",
       "      <td></td>\n",
       "      <td>SIL</td>\n",
       "      <td>B9455</td>\n",
       "      <td>NB</td>\n",
       "      <td>10300 S. Doty</td>\n",
       "      <td>(773) 568-8495</td>\n",
       "      <td>2750400</td>\n",
       "    </tr>\n",
       "    <tr>\n",
       "      <th>101</th>\n",
       "      <td>2014-11-18</td>\n",
       "      <td>BMW</td>\n",
       "      <td>4D</td>\n",
       "      <td></td>\n",
       "      <td>WHI</td>\n",
       "      <td>V960806</td>\n",
       "      <td>IL</td>\n",
       "      <td>400 E. Lower Wacker</td>\n",
       "      <td>(312) 744-7550</td>\n",
       "      <td>917087</td>\n",
       "    </tr>\n",
       "    <tr>\n",
       "      <th>102</th>\n",
       "      <td>2014-11-18</td>\n",
       "      <td>DODG</td>\n",
       "      <td>PK</td>\n",
       "      <td>TK</td>\n",
       "      <td>RED</td>\n",
       "      <td>1382871B</td>\n",
       "      <td>IL</td>\n",
       "      <td>10300 S. Doty</td>\n",
       "      <td>(773) 568-8495</td>\n",
       "      <td>2750398</td>\n",
       "    </tr>\n",
       "    <tr>\n",
       "      <th>103</th>\n",
       "      <td>2014-11-18</td>\n",
       "      <td>CHEV</td>\n",
       "      <td>4D</td>\n",
       "      <td></td>\n",
       "      <td>TAN</td>\n",
       "      <td>V356714</td>\n",
       "      <td>IL</td>\n",
       "      <td>10300 S. Doty</td>\n",
       "      <td>(773) 568-8495</td>\n",
       "      <td>2750397</td>\n",
       "    </tr>\n",
       "    <tr>\n",
       "      <th>104</th>\n",
       "      <td>2014-11-18</td>\n",
       "      <td>BUIC</td>\n",
       "      <td>4D</td>\n",
       "      <td></td>\n",
       "      <td>WHI</td>\n",
       "      <td>S941660</td>\n",
       "      <td>IL</td>\n",
       "      <td>10300 S. Doty</td>\n",
       "      <td>(773) 568-8495</td>\n",
       "      <td>2750396</td>\n",
       "    </tr>\n",
       "  </tbody>\n",
       "</table>\n",
       "</div>"
      ],
      "text/plain": [
       "          date  make style model color     plate state             towed_to  \\\n",
       "100 2014-11-18  FORD    4D         SIL     B9455    NB        10300 S. Doty   \n",
       "101 2014-11-18   BMW    4D         WHI   V960806    IL  400 E. Lower Wacker   \n",
       "102 2014-11-18  DODG    PK    TK   RED  1382871B    IL        10300 S. Doty   \n",
       "103 2014-11-18  CHEV    4D         TAN   V356714    IL        10300 S. Doty   \n",
       "104 2014-11-18  BUIC    4D         WHI   S941660    IL        10300 S. Doty   \n",
       "\n",
       "      facility_phone  inventory_num  \n",
       "100  (773) 568-8495         2750400  \n",
       "101   (312) 744-7550         917087  \n",
       "102  (773) 568-8495         2750398  \n",
       "103  (773) 568-8495         2750397  \n",
       "104  (773) 568-8495         2750396  "
      ]
     },
     "execution_count": 7,
     "metadata": {},
     "output_type": "execute_result"
    }
   ],
   "source": [
    "towed[100:105]"
   ]
  },
  {
   "cell_type": "code",
   "execution_count": 8,
   "metadata": {},
   "outputs": [
    {
     "name": "stdout",
     "output_type": "stream",
     "text": [
      "<class 'pandas.core.frame.DataFrame'>\n",
      "RangeIndex: 5065 entries, 0 to 5064\n",
      "Data columns (total 10 columns):\n",
      "date              5065 non-null datetime64[ns]\n",
      "make              5065 non-null object\n",
      "style             5065 non-null object\n",
      "model             5065 non-null object\n",
      "color             5065 non-null object\n",
      "plate             5065 non-null object\n",
      "state             5065 non-null object\n",
      "towed_to          5065 non-null object\n",
      "facility_phone    5065 non-null object\n",
      "inventory_num     5065 non-null int64\n",
      "dtypes: datetime64[ns](1), int64(1), object(8)\n",
      "memory usage: 395.8+ KB\n"
     ]
    }
   ],
   "source": [
    "towed.info()"
   ]
  },
  {
   "cell_type": "code",
   "execution_count": 9,
   "metadata": {},
   "outputs": [
    {
     "data": {
      "text/html": [
       "<div>\n",
       "<style scoped>\n",
       "    .dataframe tbody tr th:only-of-type {\n",
       "        vertical-align: middle;\n",
       "    }\n",
       "\n",
       "    .dataframe tbody tr th {\n",
       "        vertical-align: top;\n",
       "    }\n",
       "\n",
       "    .dataframe thead th {\n",
       "        text-align: right;\n",
       "    }\n",
       "</style>\n",
       "<table border=\"1\" class=\"dataframe\">\n",
       "  <thead>\n",
       "    <tr style=\"text-align: right;\">\n",
       "      <th></th>\n",
       "      <th>inventory_num</th>\n",
       "    </tr>\n",
       "  </thead>\n",
       "  <tbody>\n",
       "    <tr>\n",
       "      <th>count</th>\n",
       "      <td>5.065000e+03</td>\n",
       "    </tr>\n",
       "    <tr>\n",
       "      <th>mean</th>\n",
       "      <td>4.547865e+06</td>\n",
       "    </tr>\n",
       "    <tr>\n",
       "      <th>std</th>\n",
       "      <td>2.115626e+06</td>\n",
       "    </tr>\n",
       "    <tr>\n",
       "      <th>min</th>\n",
       "      <td>8.160000e+03</td>\n",
       "    </tr>\n",
       "    <tr>\n",
       "      <th>25%</th>\n",
       "      <td>2.747381e+06</td>\n",
       "    </tr>\n",
       "    <tr>\n",
       "      <th>50%</th>\n",
       "      <td>2.750197e+06</td>\n",
       "    </tr>\n",
       "    <tr>\n",
       "      <th>75%</th>\n",
       "      <td>6.795649e+06</td>\n",
       "    </tr>\n",
       "    <tr>\n",
       "      <th>max</th>\n",
       "      <td>6.798366e+06</td>\n",
       "    </tr>\n",
       "  </tbody>\n",
       "</table>\n",
       "</div>"
      ],
      "text/plain": [
       "       inventory_num\n",
       "count   5.065000e+03\n",
       "mean    4.547865e+06\n",
       "std     2.115626e+06\n",
       "min     8.160000e+03\n",
       "25%     2.747381e+06\n",
       "50%     2.750197e+06\n",
       "75%     6.795649e+06\n",
       "max     6.798366e+06"
      ]
     },
     "execution_count": 9,
     "metadata": {},
     "output_type": "execute_result"
    }
   ],
   "source": [
    "towed.describe()"
   ]
  },
  {
   "cell_type": "markdown",
   "metadata": {},
   "source": [
    "### 3.1)- Indexes"
   ]
  },
  {
   "cell_type": "code",
   "execution_count": 10,
   "metadata": {},
   "outputs": [
    {
     "data": {
      "text/html": [
       "<div>\n",
       "<style scoped>\n",
       "    .dataframe tbody tr th:only-of-type {\n",
       "        vertical-align: middle;\n",
       "    }\n",
       "\n",
       "    .dataframe tbody tr th {\n",
       "        vertical-align: top;\n",
       "    }\n",
       "\n",
       "    .dataframe thead th {\n",
       "        text-align: right;\n",
       "    }\n",
       "</style>\n",
       "<table border=\"1\" class=\"dataframe\">\n",
       "  <thead>\n",
       "    <tr style=\"text-align: right;\">\n",
       "      <th></th>\n",
       "      <th>date</th>\n",
       "      <th>make</th>\n",
       "      <th>style</th>\n",
       "      <th>model</th>\n",
       "      <th>color</th>\n",
       "      <th>plate</th>\n",
       "      <th>state</th>\n",
       "      <th>towed_to</th>\n",
       "      <th>facility_phone</th>\n",
       "      <th>inventory_num</th>\n",
       "    </tr>\n",
       "  </thead>\n",
       "  <tbody>\n",
       "    <tr>\n",
       "      <th>0</th>\n",
       "      <td>2014-11-18</td>\n",
       "      <td>FORD</td>\n",
       "      <td>LL</td>\n",
       "      <td></td>\n",
       "      <td>BLK</td>\n",
       "      <td>S105053</td>\n",
       "      <td>IL</td>\n",
       "      <td>10300 S. Doty</td>\n",
       "      <td>(773) 568-8495</td>\n",
       "      <td>2750424</td>\n",
       "    </tr>\n",
       "    <tr>\n",
       "      <th>1</th>\n",
       "      <td>2014-11-18</td>\n",
       "      <td>HOND</td>\n",
       "      <td>4D</td>\n",
       "      <td>ACC</td>\n",
       "      <td>BLK</td>\n",
       "      <td>S415270</td>\n",
       "      <td>IL</td>\n",
       "      <td>400 E. Lower Wacker</td>\n",
       "      <td>(312) 744-7550</td>\n",
       "      <td>917129</td>\n",
       "    </tr>\n",
       "  </tbody>\n",
       "</table>\n",
       "</div>"
      ],
      "text/plain": [
       "        date  make style model color    plate state             towed_to  \\\n",
       "0 2014-11-18  FORD    LL         BLK  S105053    IL        10300 S. Doty   \n",
       "1 2014-11-18  HOND    4D   ACC   BLK  S415270    IL  400 E. Lower Wacker   \n",
       "\n",
       "    facility_phone  inventory_num  \n",
       "0  (773) 568-8495         2750424  \n",
       "1   (312) 744-7550         917129  "
      ]
     },
     "execution_count": 10,
     "metadata": {},
     "output_type": "execute_result"
    }
   ],
   "source": [
    "towed.head(2)"
   ]
  },
  {
   "cell_type": "code",
   "execution_count": 11,
   "metadata": {},
   "outputs": [],
   "source": [
    "towed.set_index('date', inplace=True)"
   ]
  },
  {
   "cell_type": "code",
   "execution_count": 12,
   "metadata": {},
   "outputs": [
    {
     "data": {
      "text/html": [
       "<div>\n",
       "<style scoped>\n",
       "    .dataframe tbody tr th:only-of-type {\n",
       "        vertical-align: middle;\n",
       "    }\n",
       "\n",
       "    .dataframe tbody tr th {\n",
       "        vertical-align: top;\n",
       "    }\n",
       "\n",
       "    .dataframe thead th {\n",
       "        text-align: right;\n",
       "    }\n",
       "</style>\n",
       "<table border=\"1\" class=\"dataframe\">\n",
       "  <thead>\n",
       "    <tr style=\"text-align: right;\">\n",
       "      <th></th>\n",
       "      <th>make</th>\n",
       "      <th>style</th>\n",
       "      <th>model</th>\n",
       "      <th>color</th>\n",
       "      <th>plate</th>\n",
       "      <th>state</th>\n",
       "      <th>towed_to</th>\n",
       "      <th>facility_phone</th>\n",
       "      <th>inventory_num</th>\n",
       "    </tr>\n",
       "    <tr>\n",
       "      <th>date</th>\n",
       "      <th></th>\n",
       "      <th></th>\n",
       "      <th></th>\n",
       "      <th></th>\n",
       "      <th></th>\n",
       "      <th></th>\n",
       "      <th></th>\n",
       "      <th></th>\n",
       "      <th></th>\n",
       "    </tr>\n",
       "  </thead>\n",
       "  <tbody>\n",
       "    <tr>\n",
       "      <th>2014-11-18</th>\n",
       "      <td>FORD</td>\n",
       "      <td>LL</td>\n",
       "      <td></td>\n",
       "      <td>BLK</td>\n",
       "      <td>S105053</td>\n",
       "      <td>IL</td>\n",
       "      <td>10300 S. Doty</td>\n",
       "      <td>(773) 568-8495</td>\n",
       "      <td>2750424</td>\n",
       "    </tr>\n",
       "    <tr>\n",
       "      <th>2014-11-18</th>\n",
       "      <td>HOND</td>\n",
       "      <td>4D</td>\n",
       "      <td>ACC</td>\n",
       "      <td>BLK</td>\n",
       "      <td>S415270</td>\n",
       "      <td>IL</td>\n",
       "      <td>400 E. Lower Wacker</td>\n",
       "      <td>(312) 744-7550</td>\n",
       "      <td>917129</td>\n",
       "    </tr>\n",
       "  </tbody>\n",
       "</table>\n",
       "</div>"
      ],
      "text/plain": [
       "            make style model color    plate state             towed_to  \\\n",
       "date                                                                     \n",
       "2014-11-18  FORD    LL         BLK  S105053    IL        10300 S. Doty   \n",
       "2014-11-18  HOND    4D   ACC   BLK  S415270    IL  400 E. Lower Wacker   \n",
       "\n",
       "             facility_phone  inventory_num  \n",
       "date                                        \n",
       "2014-11-18  (773) 568-8495         2750424  \n",
       "2014-11-18   (312) 744-7550         917129  "
      ]
     },
     "execution_count": 12,
     "metadata": {},
     "output_type": "execute_result"
    }
   ],
   "source": [
    "towed.head(2)"
   ]
  },
  {
   "cell_type": "code",
   "execution_count": 13,
   "metadata": {},
   "outputs": [
    {
     "data": {
      "text/html": [
       "<div>\n",
       "<style scoped>\n",
       "    .dataframe tbody tr th:only-of-type {\n",
       "        vertical-align: middle;\n",
       "    }\n",
       "\n",
       "    .dataframe tbody tr th {\n",
       "        vertical-align: top;\n",
       "    }\n",
       "\n",
       "    .dataframe thead th {\n",
       "        text-align: right;\n",
       "    }\n",
       "</style>\n",
       "<table border=\"1\" class=\"dataframe\">\n",
       "  <thead>\n",
       "    <tr style=\"text-align: right;\">\n",
       "      <th></th>\n",
       "      <th>make</th>\n",
       "      <th>style</th>\n",
       "      <th>model</th>\n",
       "      <th>color</th>\n",
       "      <th>plate</th>\n",
       "      <th>state</th>\n",
       "      <th>towed_to</th>\n",
       "      <th>facility_phone</th>\n",
       "      <th>inventory_num</th>\n",
       "    </tr>\n",
       "    <tr>\n",
       "      <th>date</th>\n",
       "      <th></th>\n",
       "      <th></th>\n",
       "      <th></th>\n",
       "      <th></th>\n",
       "      <th></th>\n",
       "      <th></th>\n",
       "      <th></th>\n",
       "      <th></th>\n",
       "      <th></th>\n",
       "    </tr>\n",
       "  </thead>\n",
       "  <tbody>\n",
       "    <tr>\n",
       "      <th>2014-11-04</th>\n",
       "      <td>LINC</td>\n",
       "      <td>LL</td>\n",
       "      <td></td>\n",
       "      <td>GRN</td>\n",
       "      <td>V322831</td>\n",
       "      <td>IL</td>\n",
       "      <td>10300 S. Doty</td>\n",
       "      <td>(773) 568-8495</td>\n",
       "      <td>2749375</td>\n",
       "    </tr>\n",
       "    <tr>\n",
       "      <th>2014-11-04</th>\n",
       "      <td>CHRY</td>\n",
       "      <td>VN</td>\n",
       "      <td></td>\n",
       "      <td>BLU</td>\n",
       "      <td>7101535</td>\n",
       "      <td>IL</td>\n",
       "      <td>701 N. Sacramento</td>\n",
       "      <td>(773) 265-7605</td>\n",
       "      <td>6797250</td>\n",
       "    </tr>\n",
       "    <tr>\n",
       "      <th>2014-11-04</th>\n",
       "      <td>PLYM</td>\n",
       "      <td>VN</td>\n",
       "      <td>TK</td>\n",
       "      <td>GRN</td>\n",
       "      <td>V144454</td>\n",
       "      <td>IL</td>\n",
       "      <td>701 N. Sacramento</td>\n",
       "      <td>(773) 265-7605</td>\n",
       "      <td>6797248</td>\n",
       "    </tr>\n",
       "    <tr>\n",
       "      <th>2014-11-04</th>\n",
       "      <td>CHEV</td>\n",
       "      <td>VN</td>\n",
       "      <td>TK</td>\n",
       "      <td>BLK</td>\n",
       "      <td>K719308</td>\n",
       "      <td>IL</td>\n",
       "      <td>701 N. Sacramento</td>\n",
       "      <td>(773) 265-7605</td>\n",
       "      <td>6797246</td>\n",
       "    </tr>\n",
       "    <tr>\n",
       "      <th>2014-11-04</th>\n",
       "      <td>CHEV</td>\n",
       "      <td>4D</td>\n",
       "      <td>IMP</td>\n",
       "      <td>SIL</td>\n",
       "      <td>UG5J2P</td>\n",
       "      <td>MO</td>\n",
       "      <td>701 N. Sacramento</td>\n",
       "      <td>(773) 265-7605</td>\n",
       "      <td>6797244</td>\n",
       "    </tr>\n",
       "  </tbody>\n",
       "</table>\n",
       "</div>"
      ],
      "text/plain": [
       "            make style model color    plate state           towed_to  \\\n",
       "date                                                                   \n",
       "2014-11-04  LINC    LL         GRN  V322831    IL      10300 S. Doty   \n",
       "2014-11-04  CHRY    VN         BLU  7101535    IL  701 N. Sacramento   \n",
       "2014-11-04  PLYM    VN    TK   GRN  V144454    IL  701 N. Sacramento   \n",
       "2014-11-04  CHEV    VN    TK   BLK  K719308    IL  701 N. Sacramento   \n",
       "2014-11-04  CHEV    4D   IMP   SIL   UG5J2P    MO  701 N. Sacramento   \n",
       "\n",
       "             facility_phone  inventory_num  \n",
       "date                                        \n",
       "2014-11-04  (773) 568-8495         2749375  \n",
       "2014-11-04   (773) 265-7605        6797250  \n",
       "2014-11-04   (773) 265-7605        6797248  \n",
       "2014-11-04   (773) 265-7605        6797246  \n",
       "2014-11-04   (773) 265-7605        6797244  "
      ]
     },
     "execution_count": 13,
     "metadata": {},
     "output_type": "execute_result"
    }
   ],
   "source": [
    "\n",
    "# SELECT *\n",
    "# FROM towed\n",
    "# WHERE date = '2014-11-04'\n",
    "# LIMIT 5;\n",
    "towed.loc['2014-11-04'][:5]"
   ]
  },
  {
   "cell_type": "code",
   "execution_count": 14,
   "metadata": {},
   "outputs": [
    {
     "data": {
      "text/plain": [
       "70"
      ]
     },
     "execution_count": 14,
     "metadata": {},
     "output_type": "execute_result"
    }
   ],
   "source": [
    "len(towed.loc['2014-11-04'])"
   ]
  },
  {
   "cell_type": "code",
   "execution_count": 15,
   "metadata": {},
   "outputs": [
    {
     "data": {
      "text/plain": [
       "date\n",
       "2014-11-04    LINC\n",
       "2014-11-04    CHRY\n",
       "2014-11-04    PLYM\n",
       "2014-11-04    CHEV\n",
       "2014-11-04    CHEV\n",
       "Name: make, dtype: object"
      ]
     },
     "execution_count": 15,
     "metadata": {},
     "output_type": "execute_result"
    }
   ],
   "source": [
    "# get a Series back (or individual values, if unique)\n",
    "towed.ix['2014-11-04', 'make'][:5]"
   ]
  },
  {
   "cell_type": "code",
   "execution_count": 16,
   "metadata": {},
   "outputs": [
    {
     "data": {
      "text/html": [
       "<div>\n",
       "<style scoped>\n",
       "    .dataframe tbody tr th:only-of-type {\n",
       "        vertical-align: middle;\n",
       "    }\n",
       "\n",
       "    .dataframe tbody tr th {\n",
       "        vertical-align: top;\n",
       "    }\n",
       "\n",
       "    .dataframe thead th {\n",
       "        text-align: right;\n",
       "    }\n",
       "</style>\n",
       "<table border=\"1\" class=\"dataframe\">\n",
       "  <thead>\n",
       "    <tr style=\"text-align: right;\">\n",
       "      <th></th>\n",
       "      <th>date</th>\n",
       "      <th>make</th>\n",
       "      <th>style</th>\n",
       "      <th>model</th>\n",
       "      <th>color</th>\n",
       "      <th>plate</th>\n",
       "      <th>state</th>\n",
       "      <th>towed_to</th>\n",
       "      <th>facility_phone</th>\n",
       "      <th>inventory_num</th>\n",
       "    </tr>\n",
       "  </thead>\n",
       "  <tbody>\n",
       "    <tr>\n",
       "      <th>1350</th>\n",
       "      <td>2014-11-04</td>\n",
       "      <td>LINC</td>\n",
       "      <td>LL</td>\n",
       "      <td></td>\n",
       "      <td>GRN</td>\n",
       "      <td>V322831</td>\n",
       "      <td>IL</td>\n",
       "      <td>10300 S. Doty</td>\n",
       "      <td>(773) 568-8495</td>\n",
       "      <td>2749375</td>\n",
       "    </tr>\n",
       "    <tr>\n",
       "      <th>1351</th>\n",
       "      <td>2014-11-04</td>\n",
       "      <td>CHRY</td>\n",
       "      <td>VN</td>\n",
       "      <td></td>\n",
       "      <td>BLU</td>\n",
       "      <td>7101535</td>\n",
       "      <td>IL</td>\n",
       "      <td>701 N. Sacramento</td>\n",
       "      <td>(773) 265-7605</td>\n",
       "      <td>6797250</td>\n",
       "    </tr>\n",
       "    <tr>\n",
       "      <th>1352</th>\n",
       "      <td>2014-11-04</td>\n",
       "      <td>PLYM</td>\n",
       "      <td>VN</td>\n",
       "      <td>TK</td>\n",
       "      <td>GRN</td>\n",
       "      <td>V144454</td>\n",
       "      <td>IL</td>\n",
       "      <td>701 N. Sacramento</td>\n",
       "      <td>(773) 265-7605</td>\n",
       "      <td>6797248</td>\n",
       "    </tr>\n",
       "    <tr>\n",
       "      <th>1353</th>\n",
       "      <td>2014-11-04</td>\n",
       "      <td>CHEV</td>\n",
       "      <td>VN</td>\n",
       "      <td>TK</td>\n",
       "      <td>BLK</td>\n",
       "      <td>K719308</td>\n",
       "      <td>IL</td>\n",
       "      <td>701 N. Sacramento</td>\n",
       "      <td>(773) 265-7605</td>\n",
       "      <td>6797246</td>\n",
       "    </tr>\n",
       "    <tr>\n",
       "      <th>1354</th>\n",
       "      <td>2014-11-04</td>\n",
       "      <td>CHEV</td>\n",
       "      <td>4D</td>\n",
       "      <td>IMP</td>\n",
       "      <td>SIL</td>\n",
       "      <td>UG5J2P</td>\n",
       "      <td>MO</td>\n",
       "      <td>701 N. Sacramento</td>\n",
       "      <td>(773) 265-7605</td>\n",
       "      <td>6797244</td>\n",
       "    </tr>\n",
       "  </tbody>\n",
       "</table>\n",
       "</div>"
      ],
      "text/plain": [
       "           date  make style model color    plate state           towed_to  \\\n",
       "1350 2014-11-04  LINC    LL         GRN  V322831    IL      10300 S. Doty   \n",
       "1351 2014-11-04  CHRY    VN         BLU  7101535    IL  701 N. Sacramento   \n",
       "1352 2014-11-04  PLYM    VN    TK   GRN  V144454    IL  701 N. Sacramento   \n",
       "1353 2014-11-04  CHEV    VN    TK   BLK  K719308    IL  701 N. Sacramento   \n",
       "1354 2014-11-04  CHEV    4D   IMP   SIL   UG5J2P    MO  701 N. Sacramento   \n",
       "\n",
       "       facility_phone  inventory_num  \n",
       "1350  (773) 568-8495         2749375  \n",
       "1351   (773) 265-7605        6797250  \n",
       "1352   (773) 265-7605        6797248  \n",
       "1353   (773) 265-7605        6797246  \n",
       "1354   (773) 265-7605        6797244  "
      ]
     },
     "execution_count": 16,
     "metadata": {},
     "output_type": "execute_result"
    }
   ],
   "source": [
    "# SELECT *\n",
    "# FROM towed\n",
    "# WHERE date = '2014-11-04';\n",
    "towed.reset_index(inplace=True)\n",
    "towed[towed['date'] == '2014-11-04'][:5]"
   ]
  },
  {
   "cell_type": "code",
   "execution_count": 17,
   "metadata": {},
   "outputs": [
    {
     "data": {
      "text/plain": [
       "70"
      ]
     },
     "execution_count": 17,
     "metadata": {},
     "output_type": "execute_result"
    }
   ],
   "source": [
    "len(towed[towed['date'] == '2014-11-04'])"
   ]
  },
  {
   "cell_type": "markdown",
   "metadata": {},
   "source": [
    "Same like earlier method"
   ]
  },
  {
   "cell_type": "code",
   "execution_count": 18,
   "metadata": {},
   "outputs": [],
   "source": [
    "# make those changes to orginal\n",
    "towed.set_index('date', inplace=True)"
   ]
  },
  {
   "cell_type": "markdown",
   "metadata": {},
   "source": [
    "### 3.2)-Selection"
   ]
  },
  {
   "cell_type": "code",
   "execution_count": 19,
   "metadata": {},
   "outputs": [
    {
     "data": {
      "text/html": [
       "<div>\n",
       "<style scoped>\n",
       "    .dataframe tbody tr th:only-of-type {\n",
       "        vertical-align: middle;\n",
       "    }\n",
       "\n",
       "    .dataframe tbody tr th {\n",
       "        vertical-align: top;\n",
       "    }\n",
       "\n",
       "    .dataframe thead th {\n",
       "        text-align: right;\n",
       "    }\n",
       "</style>\n",
       "<table border=\"1\" class=\"dataframe\">\n",
       "  <thead>\n",
       "    <tr style=\"text-align: right;\">\n",
       "      <th></th>\n",
       "      <th>make</th>\n",
       "      <th>color</th>\n",
       "      <th>state</th>\n",
       "    </tr>\n",
       "    <tr>\n",
       "      <th>date</th>\n",
       "      <th></th>\n",
       "      <th></th>\n",
       "      <th></th>\n",
       "    </tr>\n",
       "  </thead>\n",
       "  <tbody>\n",
       "    <tr>\n",
       "      <th>2014-11-18</th>\n",
       "      <td>FORD</td>\n",
       "      <td>BLK</td>\n",
       "      <td>IL</td>\n",
       "    </tr>\n",
       "    <tr>\n",
       "      <th>2014-11-18</th>\n",
       "      <td>HOND</td>\n",
       "      <td>BLK</td>\n",
       "      <td>IL</td>\n",
       "    </tr>\n",
       "    <tr>\n",
       "      <th>2014-11-18</th>\n",
       "      <td>CHRY</td>\n",
       "      <td>SIL</td>\n",
       "      <td>IL</td>\n",
       "    </tr>\n",
       "    <tr>\n",
       "      <th>2014-11-18</th>\n",
       "      <td>HYUN</td>\n",
       "      <td>SIL</td>\n",
       "      <td>IL</td>\n",
       "    </tr>\n",
       "    <tr>\n",
       "      <th>2014-11-18</th>\n",
       "      <td>TOYT</td>\n",
       "      <td>WHI</td>\n",
       "      <td>IL</td>\n",
       "    </tr>\n",
       "  </tbody>\n",
       "</table>\n",
       "</div>"
      ],
      "text/plain": [
       "            make color state\n",
       "date                        \n",
       "2014-11-18  FORD   BLK    IL\n",
       "2014-11-18  HOND   BLK    IL\n",
       "2014-11-18  CHRY   SIL    IL\n",
       "2014-11-18  HYUN   SIL    IL\n",
       "2014-11-18  TOYT   WHI    IL"
      ]
     },
     "execution_count": 19,
     "metadata": {},
     "output_type": "execute_result"
    }
   ],
   "source": [
    "# just passing a list\n",
    "cols = ['make', 'color', 'state'] \n",
    "towed[cols][:5]"
   ]
  },
  {
   "cell_type": "markdown",
   "metadata": {},
   "source": [
    "### 3.3)- Filtering\n",
    "\n",
    "sort() was deprecated for DataFrames in favor of either:\n",
    "\n",
    "- sort_values() to sort by column(s)\n",
    "- sort_index() to sort by the index"
   ]
  },
  {
   "cell_type": "code",
   "execution_count": 20,
   "metadata": {},
   "outputs": [
    {
     "data": {
      "text/html": [
       "<div>\n",
       "<style scoped>\n",
       "    .dataframe tbody tr th:only-of-type {\n",
       "        vertical-align: middle;\n",
       "    }\n",
       "\n",
       "    .dataframe tbody tr th {\n",
       "        vertical-align: top;\n",
       "    }\n",
       "\n",
       "    .dataframe thead th {\n",
       "        text-align: right;\n",
       "    }\n",
       "</style>\n",
       "<table border=\"1\" class=\"dataframe\">\n",
       "  <thead>\n",
       "    <tr style=\"text-align: right;\">\n",
       "      <th></th>\n",
       "      <th>make</th>\n",
       "      <th>style</th>\n",
       "      <th>model</th>\n",
       "      <th>color</th>\n",
       "      <th>plate</th>\n",
       "      <th>state</th>\n",
       "      <th>towed_to</th>\n",
       "      <th>facility_phone</th>\n",
       "      <th>inventory_num</th>\n",
       "    </tr>\n",
       "    <tr>\n",
       "      <th>date</th>\n",
       "      <th></th>\n",
       "      <th></th>\n",
       "      <th></th>\n",
       "      <th></th>\n",
       "      <th></th>\n",
       "      <th></th>\n",
       "      <th></th>\n",
       "      <th></th>\n",
       "      <th></th>\n",
       "    </tr>\n",
       "  </thead>\n",
       "  <tbody>\n",
       "    <tr>\n",
       "      <th>2014-11-10</th>\n",
       "      <td>FORD</td>\n",
       "      <td>4D</td>\n",
       "      <td></td>\n",
       "      <td>BLU</td>\n",
       "      <td>250WLU</td>\n",
       "      <td>WI</td>\n",
       "      <td>701 N. Sacramento</td>\n",
       "      <td>(773) 265-7605</td>\n",
       "      <td>6797787</td>\n",
       "    </tr>\n",
       "    <tr>\n",
       "      <th>2014-11-06</th>\n",
       "      <td>FORD</td>\n",
       "      <td>4D</td>\n",
       "      <td></td>\n",
       "      <td>GRN</td>\n",
       "      <td>217WCX</td>\n",
       "      <td>WI</td>\n",
       "      <td>701 N. Sacramento</td>\n",
       "      <td>(773) 265-7605</td>\n",
       "      <td>6797379</td>\n",
       "    </tr>\n",
       "    <tr>\n",
       "      <th>2014-11-08</th>\n",
       "      <td>FORD</td>\n",
       "      <td>LL</td>\n",
       "      <td></td>\n",
       "      <td>BLK</td>\n",
       "      <td>635FJE</td>\n",
       "      <td>WI</td>\n",
       "      <td>10300 S. Doty</td>\n",
       "      <td>(773) 568-8495</td>\n",
       "      <td>2749537</td>\n",
       "    </tr>\n",
       "    <tr>\n",
       "      <th>2014-10-19</th>\n",
       "      <td>FORD</td>\n",
       "      <td>LL</td>\n",
       "      <td></td>\n",
       "      <td>BLK</td>\n",
       "      <td>178WDL</td>\n",
       "      <td>WI</td>\n",
       "      <td>10300 S. Doty</td>\n",
       "      <td>(773) 568-8495</td>\n",
       "      <td>464400</td>\n",
       "    </tr>\n",
       "    <tr>\n",
       "      <th>2014-10-06</th>\n",
       "      <td>FORD</td>\n",
       "      <td>2D</td>\n",
       "      <td></td>\n",
       "      <td>ONG</td>\n",
       "      <td>198WJX</td>\n",
       "      <td>WI</td>\n",
       "      <td>701 N. Sacramento</td>\n",
       "      <td>(773) 265-7605</td>\n",
       "      <td>6794908</td>\n",
       "    </tr>\n",
       "  </tbody>\n",
       "</table>\n",
       "</div>"
      ],
      "text/plain": [
       "            make style model color   plate state           towed_to  \\\n",
       "date                                                                  \n",
       "2014-11-10  FORD    4D         BLU  250WLU    WI  701 N. Sacramento   \n",
       "2014-11-06  FORD    4D         GRN  217WCX    WI  701 N. Sacramento   \n",
       "2014-11-08  FORD    LL         BLK  635FJE    WI      10300 S. Doty   \n",
       "2014-10-19  FORD    LL         BLK  178WDL    WI      10300 S. Doty   \n",
       "2014-10-06  FORD    2D         ONG  198WJX    WI  701 N. Sacramento   \n",
       "\n",
       "             facility_phone  inventory_num  \n",
       "date                                        \n",
       "2014-11-10   (773) 265-7605        6797787  \n",
       "2014-11-06   (773) 265-7605        6797379  \n",
       "2014-11-08  (773) 568-8495         2749537  \n",
       "2014-10-19  (773) 568-8495          464400  \n",
       "2014-10-06   (773) 265-7605        6794908  "
      ]
     },
     "execution_count": 20,
     "metadata": {},
     "output_type": "execute_result"
    }
   ],
   "source": [
    "# SELECT *\n",
    "# FROM towed\n",
    "# WHERE make = 'FORD'\n",
    "# ORDER BY state DESC\n",
    "# LIMIT 5;\n",
    "towed[towed['make'] == 'FORD'].sort_values('state', ascending=False).head()"
   ]
  },
  {
   "cell_type": "code",
   "execution_count": 21,
   "metadata": {},
   "outputs": [
    {
     "data": {
      "text/html": [
       "<div>\n",
       "<style scoped>\n",
       "    .dataframe tbody tr th:only-of-type {\n",
       "        vertical-align: middle;\n",
       "    }\n",
       "\n",
       "    .dataframe tbody tr th {\n",
       "        vertical-align: top;\n",
       "    }\n",
       "\n",
       "    .dataframe thead th {\n",
       "        text-align: right;\n",
       "    }\n",
       "</style>\n",
       "<table border=\"1\" class=\"dataframe\">\n",
       "  <thead>\n",
       "    <tr style=\"text-align: right;\">\n",
       "      <th></th>\n",
       "      <th>make</th>\n",
       "      <th>style</th>\n",
       "      <th>model</th>\n",
       "      <th>color</th>\n",
       "      <th>plate</th>\n",
       "      <th>state</th>\n",
       "      <th>towed_to</th>\n",
       "      <th>facility_phone</th>\n",
       "      <th>inventory_num</th>\n",
       "    </tr>\n",
       "    <tr>\n",
       "      <th>date</th>\n",
       "      <th></th>\n",
       "      <th></th>\n",
       "      <th></th>\n",
       "      <th></th>\n",
       "      <th></th>\n",
       "      <th></th>\n",
       "      <th></th>\n",
       "      <th></th>\n",
       "      <th></th>\n",
       "    </tr>\n",
       "  </thead>\n",
       "  <tbody>\n",
       "    <tr>\n",
       "      <th>2014-11-12</th>\n",
       "      <td>DODG</td>\n",
       "      <td>LL</td>\n",
       "      <td></td>\n",
       "      <td>BLK</td>\n",
       "      <td>CLV6160</td>\n",
       "      <td>MI</td>\n",
       "      <td>701 N. Sacramento</td>\n",
       "      <td>(773) 265-7605</td>\n",
       "      <td>6797946</td>\n",
       "    </tr>\n",
       "    <tr>\n",
       "      <th>2014-09-08</th>\n",
       "      <td>CHEV</td>\n",
       "      <td>2D</td>\n",
       "      <td></td>\n",
       "      <td>BLK</td>\n",
       "      <td>3KMT29</td>\n",
       "      <td>MI</td>\n",
       "      <td>10300 S. Doty</td>\n",
       "      <td>(773) 568-8495</td>\n",
       "      <td>2745448</td>\n",
       "    </tr>\n",
       "    <tr>\n",
       "      <th>2014-08-27</th>\n",
       "      <td>KIA</td>\n",
       "      <td>4D</td>\n",
       "      <td></td>\n",
       "      <td>BLK</td>\n",
       "      <td>DAN1057</td>\n",
       "      <td>MI</td>\n",
       "      <td>701 N. Sacramento</td>\n",
       "      <td>(773) 265-7605</td>\n",
       "      <td>6791554</td>\n",
       "    </tr>\n",
       "  </tbody>\n",
       "</table>\n",
       "</div>"
      ],
      "text/plain": [
       "            make style model color    plate state           towed_to  \\\n",
       "date                                                                   \n",
       "2014-11-12  DODG    LL         BLK  CLV6160    MI  701 N. Sacramento   \n",
       "2014-09-08  CHEV    2D         BLK   3KMT29    MI      10300 S. Doty   \n",
       "2014-08-27   KIA    4D         BLK  DAN1057    MI  701 N. Sacramento   \n",
       "\n",
       "             facility_phone  inventory_num  \n",
       "date                                        \n",
       "2014-11-12   (773) 265-7605        6797946  \n",
       "2014-09-08  (773) 568-8495         2745448  \n",
       "2014-08-27   (773) 265-7605        6791554  "
      ]
     },
     "execution_count": 21,
     "metadata": {},
     "output_type": "execute_result"
    }
   ],
   "source": [
    "# SELECT *\n",
    "# FROM towed\n",
    "# WHERE color = 'BLK'\n",
    "#   AND state = 'MI';\n",
    "towed[(towed.color == 'BLK') & (towed.state == 'MI')]"
   ]
  },
  {
   "cell_type": "code",
   "execution_count": 22,
   "metadata": {},
   "outputs": [
    {
     "data": {
      "text/html": [
       "<div>\n",
       "<style scoped>\n",
       "    .dataframe tbody tr th:only-of-type {\n",
       "        vertical-align: middle;\n",
       "    }\n",
       "\n",
       "    .dataframe tbody tr th {\n",
       "        vertical-align: top;\n",
       "    }\n",
       "\n",
       "    .dataframe thead th {\n",
       "        text-align: right;\n",
       "    }\n",
       "</style>\n",
       "<table border=\"1\" class=\"dataframe\">\n",
       "  <thead>\n",
       "    <tr style=\"text-align: right;\">\n",
       "      <th></th>\n",
       "      <th>make</th>\n",
       "      <th>style</th>\n",
       "      <th>model</th>\n",
       "      <th>color</th>\n",
       "      <th>plate</th>\n",
       "      <th>state</th>\n",
       "      <th>towed_to</th>\n",
       "      <th>facility_phone</th>\n",
       "      <th>inventory_num</th>\n",
       "    </tr>\n",
       "    <tr>\n",
       "      <th>date</th>\n",
       "      <th></th>\n",
       "      <th></th>\n",
       "      <th></th>\n",
       "      <th></th>\n",
       "      <th></th>\n",
       "      <th></th>\n",
       "      <th></th>\n",
       "      <th></th>\n",
       "      <th></th>\n",
       "    </tr>\n",
       "  </thead>\n",
       "  <tbody>\n",
       "    <tr>\n",
       "      <th>2014-09-27</th>\n",
       "      <td>AUDI</td>\n",
       "      <td>4D</td>\n",
       "      <td></td>\n",
       "      <td>SIL</td>\n",
       "      <td>EWA7707</td>\n",
       "      <td>NY</td>\n",
       "      <td>701 N. Sacramento</td>\n",
       "      <td>(773) 265-7605</td>\n",
       "      <td>6794421</td>\n",
       "    </tr>\n",
       "    <tr>\n",
       "      <th>2014-09-27</th>\n",
       "      <td>AUDI</td>\n",
       "      <td>4D</td>\n",
       "      <td></td>\n",
       "      <td>SIL</td>\n",
       "      <td>EWA7707</td>\n",
       "      <td>NY</td>\n",
       "      <td>701 N. Sacramento</td>\n",
       "      <td>(773) 265-7605</td>\n",
       "      <td>6794421</td>\n",
       "    </tr>\n",
       "    <tr>\n",
       "      <th>2014-11-11</th>\n",
       "      <td>BUIC</td>\n",
       "      <td>LL</td>\n",
       "      <td></td>\n",
       "      <td>WHI</td>\n",
       "      <td>GNW2480</td>\n",
       "      <td>NY</td>\n",
       "      <td>10300 S. Doty</td>\n",
       "      <td>(773) 568-8495</td>\n",
       "      <td>2749681</td>\n",
       "    </tr>\n",
       "    <tr>\n",
       "      <th>2014-10-08</th>\n",
       "      <td>PORS</td>\n",
       "      <td>LL</td>\n",
       "      <td></td>\n",
       "      <td>RED</td>\n",
       "      <td>V515513</td>\n",
       "      <td>IL</td>\n",
       "      <td>701 N. Sacramento</td>\n",
       "      <td>(773) 265-7605</td>\n",
       "      <td>6795116</td>\n",
       "    </tr>\n",
       "    <tr>\n",
       "      <th>2014-11-01</th>\n",
       "      <td>PORS</td>\n",
       "      <td>LL</td>\n",
       "      <td></td>\n",
       "      <td>BLK</td>\n",
       "      <td>V671447</td>\n",
       "      <td>IL</td>\n",
       "      <td>10300 S. Doty</td>\n",
       "      <td>(773) 568-8495</td>\n",
       "      <td>2749122</td>\n",
       "    </tr>\n",
       "    <tr>\n",
       "      <th>2014-09-25</th>\n",
       "      <td>PORS</td>\n",
       "      <td>LL</td>\n",
       "      <td></td>\n",
       "      <td>BLK</td>\n",
       "      <td></td>\n",
       "      <td>IL</td>\n",
       "      <td>701 N. Sacramento</td>\n",
       "      <td>(773) 265-7605</td>\n",
       "      <td>6794214</td>\n",
       "    </tr>\n",
       "    <tr>\n",
       "      <th>2014-09-19</th>\n",
       "      <td>PORS</td>\n",
       "      <td>LL</td>\n",
       "      <td></td>\n",
       "      <td>BLK</td>\n",
       "      <td>V733398</td>\n",
       "      <td>IL</td>\n",
       "      <td>701 N. Sacramento</td>\n",
       "      <td>(773) 265-7605</td>\n",
       "      <td>6793740</td>\n",
       "    </tr>\n",
       "    <tr>\n",
       "      <th>2014-09-01</th>\n",
       "      <td>SUZI</td>\n",
       "      <td>4D</td>\n",
       "      <td></td>\n",
       "      <td>GRY</td>\n",
       "      <td>EHL9836</td>\n",
       "      <td>NY</td>\n",
       "      <td>10300 S. Doty</td>\n",
       "      <td>(773) 568-8495</td>\n",
       "      <td>2744842</td>\n",
       "    </tr>\n",
       "  </tbody>\n",
       "</table>\n",
       "</div>"
      ],
      "text/plain": [
       "            make style model color    plate state           towed_to  \\\n",
       "date                                                                   \n",
       "2014-09-27  AUDI    4D         SIL  EWA7707    NY  701 N. Sacramento   \n",
       "2014-09-27  AUDI    4D         SIL  EWA7707    NY  701 N. Sacramento   \n",
       "2014-11-11  BUIC    LL         WHI  GNW2480    NY      10300 S. Doty   \n",
       "2014-10-08  PORS    LL         RED  V515513    IL  701 N. Sacramento   \n",
       "2014-11-01  PORS    LL         BLK  V671447    IL      10300 S. Doty   \n",
       "2014-09-25  PORS    LL         BLK             IL  701 N. Sacramento   \n",
       "2014-09-19  PORS    LL         BLK  V733398    IL  701 N. Sacramento   \n",
       "2014-09-01  SUZI    4D         GRY  EHL9836    NY      10300 S. Doty   \n",
       "\n",
       "             facility_phone  inventory_num  \n",
       "date                                        \n",
       "2014-09-27   (773) 265-7605        6794421  \n",
       "2014-09-27   (773) 265-7605        6794421  \n",
       "2014-11-11  (773) 568-8495         2749681  \n",
       "2014-10-08   (773) 265-7605        6795116  \n",
       "2014-11-01  (773) 568-8495         2749122  \n",
       "2014-09-25   (773) 265-7605        6794214  \n",
       "2014-09-19   (773) 265-7605        6793740  \n",
       "2014-09-01  (773) 568-8495         2744842  "
      ]
     },
     "execution_count": 22,
     "metadata": {},
     "output_type": "execute_result"
    }
   ],
   "source": [
    "# SELECT *\n",
    "# FROM towed\n",
    "# WHERE make = 'PORS'\n",
    "#   OR state = 'NY'\n",
    "# ORDER BY make, color DESC;\n",
    "towed[(towed.make == 'PORS') | (towed.state == 'NY')].sort_values(['make', 'color'], ascending=[True, False]) \n",
    "\n",
    "# not red Porshe"
   ]
  },
  {
   "cell_type": "markdown",
   "metadata": {},
   "source": [
    "#### filter mask"
   ]
  },
  {
   "cell_type": "code",
   "execution_count": 23,
   "metadata": {},
   "outputs": [],
   "source": [
    "# create a filter mask\n",
    "m = (towed['style'] == '4D') & (towed.state == 'IL') "
   ]
  },
  {
   "cell_type": "code",
   "execution_count": 24,
   "metadata": {},
   "outputs": [
    {
     "name": "stdout",
     "output_type": "stream",
     "text": [
      "date\n",
      "2014-11-18    False\n",
      "2014-11-18     True\n",
      "2014-11-18    False\n",
      "2014-11-18     True\n",
      "2014-11-18     True\n",
      "2014-11-18    False\n",
      "2014-11-18    False\n",
      "2014-11-18     True\n",
      "2014-11-18    False\n",
      "2014-11-18    False\n",
      "dtype: bool\n"
     ]
    }
   ],
   "source": [
    "print(m[:10])"
   ]
  },
  {
   "cell_type": "code",
   "execution_count": 25,
   "metadata": {},
   "outputs": [
    {
     "data": {
      "text/plain": [
       "True     2570\n",
       "False    2495\n",
       "dtype: int64"
      ]
     },
     "execution_count": 25,
     "metadata": {},
     "output_type": "execute_result"
    }
   ],
   "source": [
    "# it's just a boolean series\n",
    "m.value_counts() "
   ]
  },
  {
   "cell_type": "code",
   "execution_count": 26,
   "metadata": {},
   "outputs": [
    {
     "data": {
      "text/html": [
       "<div>\n",
       "<style scoped>\n",
       "    .dataframe tbody tr th:only-of-type {\n",
       "        vertical-align: middle;\n",
       "    }\n",
       "\n",
       "    .dataframe tbody tr th {\n",
       "        vertical-align: top;\n",
       "    }\n",
       "\n",
       "    .dataframe thead th {\n",
       "        text-align: right;\n",
       "    }\n",
       "</style>\n",
       "<table border=\"1\" class=\"dataframe\">\n",
       "  <thead>\n",
       "    <tr style=\"text-align: right;\">\n",
       "      <th></th>\n",
       "      <th>make</th>\n",
       "      <th>style</th>\n",
       "      <th>model</th>\n",
       "      <th>color</th>\n",
       "      <th>plate</th>\n",
       "      <th>state</th>\n",
       "      <th>towed_to</th>\n",
       "      <th>facility_phone</th>\n",
       "      <th>inventory_num</th>\n",
       "    </tr>\n",
       "    <tr>\n",
       "      <th>date</th>\n",
       "      <th></th>\n",
       "      <th></th>\n",
       "      <th></th>\n",
       "      <th></th>\n",
       "      <th></th>\n",
       "      <th></th>\n",
       "      <th></th>\n",
       "      <th></th>\n",
       "      <th></th>\n",
       "    </tr>\n",
       "  </thead>\n",
       "  <tbody>\n",
       "    <tr>\n",
       "      <th>2014-11-18</th>\n",
       "      <td>HOND</td>\n",
       "      <td>4D</td>\n",
       "      <td>ACC</td>\n",
       "      <td>BLK</td>\n",
       "      <td>S415270</td>\n",
       "      <td>IL</td>\n",
       "      <td>400 E. Lower Wacker</td>\n",
       "      <td>(312) 744-7550</td>\n",
       "      <td>917129</td>\n",
       "    </tr>\n",
       "    <tr>\n",
       "      <th>2014-11-18</th>\n",
       "      <td>HYUN</td>\n",
       "      <td>4D</td>\n",
       "      <td></td>\n",
       "      <td>SIL</td>\n",
       "      <td>N756530</td>\n",
       "      <td>IL</td>\n",
       "      <td>400 E. Lower Wacker</td>\n",
       "      <td>(312) 744-7550</td>\n",
       "      <td>917127</td>\n",
       "    </tr>\n",
       "    <tr>\n",
       "      <th>2014-11-18</th>\n",
       "      <td>TOYT</td>\n",
       "      <td>4D</td>\n",
       "      <td></td>\n",
       "      <td>WHI</td>\n",
       "      <td>K702211</td>\n",
       "      <td>IL</td>\n",
       "      <td>400 E. Lower Wacker</td>\n",
       "      <td>(312) 744-7550</td>\n",
       "      <td>917128</td>\n",
       "    </tr>\n",
       "    <tr>\n",
       "      <th>2014-11-18</th>\n",
       "      <td>CHEV</td>\n",
       "      <td>4D</td>\n",
       "      <td></td>\n",
       "      <td>BLK</td>\n",
       "      <td>E255028</td>\n",
       "      <td>IL</td>\n",
       "      <td>400 E. Lower Wacker</td>\n",
       "      <td>(312) 744-7550</td>\n",
       "      <td>917126</td>\n",
       "    </tr>\n",
       "    <tr>\n",
       "      <th>2014-11-18</th>\n",
       "      <td>MERZ</td>\n",
       "      <td>4D</td>\n",
       "      <td></td>\n",
       "      <td>BLK</td>\n",
       "      <td>S796032</td>\n",
       "      <td>IL</td>\n",
       "      <td>10300 S. Doty</td>\n",
       "      <td>(773) 568-8495</td>\n",
       "      <td>2750423</td>\n",
       "    </tr>\n",
       "  </tbody>\n",
       "</table>\n",
       "</div>"
      ],
      "text/plain": [
       "            make style model color    plate state             towed_to  \\\n",
       "date                                                                     \n",
       "2014-11-18  HOND    4D   ACC   BLK  S415270    IL  400 E. Lower Wacker   \n",
       "2014-11-18  HYUN    4D         SIL  N756530    IL  400 E. Lower Wacker   \n",
       "2014-11-18  TOYT    4D         WHI  K702211    IL  400 E. Lower Wacker   \n",
       "2014-11-18  CHEV    4D         BLK  E255028    IL  400 E. Lower Wacker   \n",
       "2014-11-18  MERZ    4D         BLK  S796032    IL        10300 S. Doty   \n",
       "\n",
       "             facility_phone  inventory_num  \n",
       "date                                        \n",
       "2014-11-18   (312) 744-7550         917129  \n",
       "2014-11-18   (312) 744-7550         917127  \n",
       "2014-11-18   (312) 744-7550         917128  \n",
       "2014-11-18   (312) 744-7550         917126  \n",
       "2014-11-18  (773) 568-8495         2750423  "
      ]
     },
     "execution_count": 26,
     "metadata": {},
     "output_type": "execute_result"
    }
   ],
   "source": [
    "# for dataset call\n",
    "\n",
    "towed[(towed['style'] == '4D') & (towed.state == 'IL')][:5]"
   ]
  },
  {
   "cell_type": "code",
   "execution_count": 27,
   "metadata": {},
   "outputs": [
    {
     "data": {
      "text/html": [
       "<div>\n",
       "<style scoped>\n",
       "    .dataframe tbody tr th:only-of-type {\n",
       "        vertical-align: middle;\n",
       "    }\n",
       "\n",
       "    .dataframe tbody tr th {\n",
       "        vertical-align: top;\n",
       "    }\n",
       "\n",
       "    .dataframe thead th {\n",
       "        text-align: right;\n",
       "    }\n",
       "</style>\n",
       "<table border=\"1\" class=\"dataframe\">\n",
       "  <thead>\n",
       "    <tr style=\"text-align: right;\">\n",
       "      <th></th>\n",
       "      <th>make</th>\n",
       "      <th>model</th>\n",
       "      <th>color</th>\n",
       "    </tr>\n",
       "    <tr>\n",
       "      <th>date</th>\n",
       "      <th></th>\n",
       "      <th></th>\n",
       "      <th></th>\n",
       "    </tr>\n",
       "  </thead>\n",
       "  <tbody>\n",
       "    <tr>\n",
       "      <th>2014-08-20</th>\n",
       "      <td>BUIC</td>\n",
       "      <td></td>\n",
       "      <td>GRY</td>\n",
       "    </tr>\n",
       "    <tr>\n",
       "      <th>2014-08-20</th>\n",
       "      <td>LEXS</td>\n",
       "      <td></td>\n",
       "      <td>BLK</td>\n",
       "    </tr>\n",
       "    <tr>\n",
       "      <th>2014-08-21</th>\n",
       "      <td>NISS</td>\n",
       "      <td></td>\n",
       "      <td>GRY</td>\n",
       "    </tr>\n",
       "    <tr>\n",
       "      <th>2014-08-21</th>\n",
       "      <td>HOND</td>\n",
       "      <td></td>\n",
       "      <td>GRY</td>\n",
       "    </tr>\n",
       "    <tr>\n",
       "      <th>2014-08-21</th>\n",
       "      <td>PONT</td>\n",
       "      <td></td>\n",
       "      <td>BLK</td>\n",
       "    </tr>\n",
       "  </tbody>\n",
       "</table>\n",
       "</div>"
      ],
      "text/plain": [
       "            make model color\n",
       "date                        \n",
       "2014-08-20  BUIC         GRY\n",
       "2014-08-20  LEXS         BLK\n",
       "2014-08-21  NISS         GRY\n",
       "2014-08-21  HOND         GRY\n",
       "2014-08-21  PONT         BLK"
      ]
     },
     "execution_count": 27,
     "metadata": {},
     "output_type": "execute_result"
    }
   ],
   "source": [
    "# let's go back to masking part\n",
    "\n",
    "# SELECT make, model, color\n",
    "# FROM towed\n",
    "# WHERE style = '4D' AND state = 'IL\n",
    "# ORDER BY date\n",
    "# LIMIT 5;\n",
    "towed[m][['make', 'model', 'color']].sort_index().head() # using sort_index instead of sort_values"
   ]
  },
  {
   "cell_type": "markdown",
   "metadata": {},
   "source": [
    "### 3.4)- checking duplicates"
   ]
  },
  {
   "cell_type": "code",
   "execution_count": 28,
   "metadata": {},
   "outputs": [
    {
     "data": {
      "text/html": [
       "<div>\n",
       "<style scoped>\n",
       "    .dataframe tbody tr th:only-of-type {\n",
       "        vertical-align: middle;\n",
       "    }\n",
       "\n",
       "    .dataframe tbody tr th {\n",
       "        vertical-align: top;\n",
       "    }\n",
       "\n",
       "    .dataframe thead th {\n",
       "        text-align: right;\n",
       "    }\n",
       "</style>\n",
       "<table border=\"1\" class=\"dataframe\">\n",
       "  <thead>\n",
       "    <tr style=\"text-align: right;\">\n",
       "      <th></th>\n",
       "      <th>make</th>\n",
       "      <th>style</th>\n",
       "      <th>model</th>\n",
       "      <th>color</th>\n",
       "      <th>plate</th>\n",
       "      <th>state</th>\n",
       "      <th>towed_to</th>\n",
       "      <th>facility_phone</th>\n",
       "      <th>inventory_num</th>\n",
       "    </tr>\n",
       "    <tr>\n",
       "      <th>date</th>\n",
       "      <th></th>\n",
       "      <th></th>\n",
       "      <th></th>\n",
       "      <th></th>\n",
       "      <th></th>\n",
       "      <th></th>\n",
       "      <th></th>\n",
       "      <th></th>\n",
       "      <th></th>\n",
       "    </tr>\n",
       "  </thead>\n",
       "  <tbody>\n",
       "    <tr>\n",
       "      <th>2014-11-18</th>\n",
       "      <td>NISS</td>\n",
       "      <td>4D</td>\n",
       "      <td></td>\n",
       "      <td>GRY</td>\n",
       "      <td>E203840</td>\n",
       "      <td>IL</td>\n",
       "      <td>400 E. Lower Wacker</td>\n",
       "      <td>(312) 744-7550</td>\n",
       "      <td>6798305</td>\n",
       "    </tr>\n",
       "    <tr>\n",
       "      <th>2014-11-06</th>\n",
       "      <td>BUIC</td>\n",
       "      <td>4D</td>\n",
       "      <td></td>\n",
       "      <td>PLE</td>\n",
       "      <td>R4548</td>\n",
       "      <td>IL</td>\n",
       "      <td>701 N. Sacramento</td>\n",
       "      <td>(773) 265-7605</td>\n",
       "      <td>6797394</td>\n",
       "    </tr>\n",
       "    <tr>\n",
       "      <th>2014-11-03</th>\n",
       "      <td>FORD</td>\n",
       "      <td>4D</td>\n",
       "      <td></td>\n",
       "      <td>BLK</td>\n",
       "      <td>S227831</td>\n",
       "      <td>IL</td>\n",
       "      <td>10300 S. Doty</td>\n",
       "      <td>(773) 568-8495</td>\n",
       "      <td>2749299</td>\n",
       "    </tr>\n",
       "    <tr>\n",
       "      <th>2014-10-19</th>\n",
       "      <td>MERZ</td>\n",
       "      <td>LL</td>\n",
       "      <td>TK</td>\n",
       "      <td>BLK</td>\n",
       "      <td>MINE-IP</td>\n",
       "      <td>IL</td>\n",
       "      <td>701 N. Sacramento</td>\n",
       "      <td>(773) 265-7605</td>\n",
       "      <td>6795998</td>\n",
       "    </tr>\n",
       "    <tr>\n",
       "      <th>2014-10-11</th>\n",
       "      <td>FORD</td>\n",
       "      <td>LL</td>\n",
       "      <td></td>\n",
       "      <td>RED</td>\n",
       "      <td></td>\n",
       "      <td>IL</td>\n",
       "      <td>10300 S. Doty</td>\n",
       "      <td>(773) 568-8495</td>\n",
       "      <td>2747534</td>\n",
       "    </tr>\n",
       "    <tr>\n",
       "      <th>2014-09-27</th>\n",
       "      <td>AUDI</td>\n",
       "      <td>4D</td>\n",
       "      <td></td>\n",
       "      <td>SIL</td>\n",
       "      <td>EWA7707</td>\n",
       "      <td>NY</td>\n",
       "      <td>701 N. Sacramento</td>\n",
       "      <td>(773) 265-7605</td>\n",
       "      <td>6794421</td>\n",
       "    </tr>\n",
       "    <tr>\n",
       "      <th>2014-09-04</th>\n",
       "      <td>CHEV</td>\n",
       "      <td>4D</td>\n",
       "      <td>LUM</td>\n",
       "      <td>WHI</td>\n",
       "      <td>S880655</td>\n",
       "      <td>IL</td>\n",
       "      <td>10300 S. Doty</td>\n",
       "      <td>(773) 568-8495</td>\n",
       "      <td>2745054</td>\n",
       "    </tr>\n",
       "    <tr>\n",
       "      <th>2014-09-03</th>\n",
       "      <td>CHEV</td>\n",
       "      <td>LL</td>\n",
       "      <td></td>\n",
       "      <td>GRY</td>\n",
       "      <td>K585960</td>\n",
       "      <td>IL</td>\n",
       "      <td>10300 S. Doty</td>\n",
       "      <td>(773) 568-8495</td>\n",
       "      <td>2744980</td>\n",
       "    </tr>\n",
       "  </tbody>\n",
       "</table>\n",
       "</div>"
      ],
      "text/plain": [
       "            make style model color    plate state             towed_to  \\\n",
       "date                                                                     \n",
       "2014-11-18  NISS    4D         GRY  E203840    IL  400 E. Lower Wacker   \n",
       "2014-11-06  BUIC    4D         PLE    R4548    IL    701 N. Sacramento   \n",
       "2014-11-03  FORD    4D         BLK  S227831    IL        10300 S. Doty   \n",
       "2014-10-19  MERZ    LL    TK   BLK  MINE-IP    IL    701 N. Sacramento   \n",
       "2014-10-11  FORD    LL         RED             IL        10300 S. Doty   \n",
       "2014-09-27  AUDI    4D         SIL  EWA7707    NY    701 N. Sacramento   \n",
       "2014-09-04  CHEV    4D   LUM   WHI  S880655    IL        10300 S. Doty   \n",
       "2014-09-03  CHEV    LL         GRY  K585960    IL        10300 S. Doty   \n",
       "\n",
       "             facility_phone  inventory_num  \n",
       "date                                        \n",
       "2014-11-18   (312) 744-7550        6798305  \n",
       "2014-11-06   (773) 265-7605        6797394  \n",
       "2014-11-03  (773) 568-8495         2749299  \n",
       "2014-10-19   (773) 265-7605        6795998  \n",
       "2014-10-11  (773) 568-8495         2747534  \n",
       "2014-09-27   (773) 265-7605        6794421  \n",
       "2014-09-04  (773) 568-8495         2745054  \n",
       "2014-09-03  (773) 568-8495         2744980  "
      ]
     },
     "execution_count": 28,
     "metadata": {},
     "output_type": "execute_result"
    }
   ],
   "source": [
    "towed[towed.duplicated()]"
   ]
  },
  {
   "cell_type": "markdown",
   "metadata": {},
   "source": [
    "# 4)- Joining\n",
    "\n",
    "Take two datasets for this example"
   ]
  },
  {
   "cell_type": "code",
   "execution_count": 29,
   "metadata": {},
   "outputs": [],
   "source": [
    "from datetime import datetime\n",
    "# creating lambda function\n",
    "to_datetime = lambda d: datetime.strptime(d, '%m/%d/%Y %H:%M')"
   ]
  },
  {
   "cell_type": "code",
   "execution_count": 30,
   "metadata": {},
   "outputs": [],
   "source": [
    "# see here: https://gist.github.com/gjreda/7433f5f70299610d9b6b\n",
    "trips = pd.read_csv('Divvy_Trips_2013.csv',\n",
    "                    converters={'starttime': to_datetime,'stoptime': to_datetime},\n",
    "                    thousands=',')\n",
    "stations = pd.read_csv('Divvy_Stations_2013.csv')"
   ]
  },
  {
   "cell_type": "code",
   "execution_count": 31,
   "metadata": {},
   "outputs": [],
   "source": [
    "# or try this\n",
    "\n",
    "#df = pd.read_csv('data/divvy/Divvy_Trips_2013.csv')\n",
    "#df['starttime'] = df['starttime'].astype('datetime64[ns]')"
   ]
  },
  {
   "cell_type": "code",
   "execution_count": 32,
   "metadata": {},
   "outputs": [
    {
     "data": {
      "text/html": [
       "<div>\n",
       "<style scoped>\n",
       "    .dataframe tbody tr th:only-of-type {\n",
       "        vertical-align: middle;\n",
       "    }\n",
       "\n",
       "    .dataframe tbody tr th {\n",
       "        vertical-align: top;\n",
       "    }\n",
       "\n",
       "    .dataframe thead th {\n",
       "        text-align: right;\n",
       "    }\n",
       "</style>\n",
       "<table border=\"1\" class=\"dataframe\">\n",
       "  <thead>\n",
       "    <tr style=\"text-align: right;\">\n",
       "      <th></th>\n",
       "      <th>trip_id</th>\n",
       "      <th>starttime</th>\n",
       "      <th>stoptime</th>\n",
       "      <th>bikeid</th>\n",
       "      <th>tripduration</th>\n",
       "      <th>from_station_id</th>\n",
       "      <th>from_station_name</th>\n",
       "      <th>to_station_id</th>\n",
       "      <th>to_station_name</th>\n",
       "      <th>usertype</th>\n",
       "      <th>gender</th>\n",
       "      <th>birthyear</th>\n",
       "    </tr>\n",
       "  </thead>\n",
       "  <tbody>\n",
       "    <tr>\n",
       "      <th>0</th>\n",
       "      <td>4118</td>\n",
       "      <td>2013-06-27 12:11:00</td>\n",
       "      <td>2013-06-27 12:16:00</td>\n",
       "      <td>480</td>\n",
       "      <td>316</td>\n",
       "      <td>42.0</td>\n",
       "      <td>Michigan Ave &amp; Oak St</td>\n",
       "      <td>282.0</td>\n",
       "      <td>Larrabee St &amp; Menomonee St</td>\n",
       "      <td>Customer</td>\n",
       "      <td>NaN</td>\n",
       "      <td>NaN</td>\n",
       "    </tr>\n",
       "    <tr>\n",
       "      <th>1</th>\n",
       "      <td>4275</td>\n",
       "      <td>2013-06-27 14:44:00</td>\n",
       "      <td>2013-06-27 14:45:00</td>\n",
       "      <td>77</td>\n",
       "      <td>64</td>\n",
       "      <td>76.0</td>\n",
       "      <td>Racine Ave &amp; Congress Pkwy</td>\n",
       "      <td>76.0</td>\n",
       "      <td>Racine Ave &amp; Congress Pkwy</td>\n",
       "      <td>Customer</td>\n",
       "      <td>NaN</td>\n",
       "      <td>NaN</td>\n",
       "    </tr>\n",
       "    <tr>\n",
       "      <th>2</th>\n",
       "      <td>4291</td>\n",
       "      <td>2013-06-27 14:58:00</td>\n",
       "      <td>2013-06-27 15:05:00</td>\n",
       "      <td>77</td>\n",
       "      <td>433</td>\n",
       "      <td>76.0</td>\n",
       "      <td>Racine Ave &amp; Congress Pkwy</td>\n",
       "      <td>139.0</td>\n",
       "      <td>Loomis St &amp; Taylor St</td>\n",
       "      <td>Customer</td>\n",
       "      <td>NaN</td>\n",
       "      <td>NaN</td>\n",
       "    </tr>\n",
       "    <tr>\n",
       "      <th>3</th>\n",
       "      <td>4316</td>\n",
       "      <td>2013-06-27 15:06:00</td>\n",
       "      <td>2013-06-27 15:09:00</td>\n",
       "      <td>77</td>\n",
       "      <td>123</td>\n",
       "      <td>139.0</td>\n",
       "      <td>Loomis St &amp; Taylor St</td>\n",
       "      <td>139.0</td>\n",
       "      <td>Loomis St &amp; Taylor St</td>\n",
       "      <td>Customer</td>\n",
       "      <td>NaN</td>\n",
       "      <td>NaN</td>\n",
       "    </tr>\n",
       "    <tr>\n",
       "      <th>4</th>\n",
       "      <td>4342</td>\n",
       "      <td>2013-06-27 15:13:00</td>\n",
       "      <td>2013-06-27 15:27:00</td>\n",
       "      <td>77</td>\n",
       "      <td>852</td>\n",
       "      <td>139.0</td>\n",
       "      <td>Loomis St &amp; Taylor St</td>\n",
       "      <td>166.0</td>\n",
       "      <td>Halsted St &amp; James M Rochford St</td>\n",
       "      <td>Customer</td>\n",
       "      <td>NaN</td>\n",
       "      <td>NaN</td>\n",
       "    </tr>\n",
       "  </tbody>\n",
       "</table>\n",
       "</div>"
      ],
      "text/plain": [
       "   trip_id           starttime            stoptime  bikeid  tripduration  \\\n",
       "0     4118 2013-06-27 12:11:00 2013-06-27 12:16:00     480           316   \n",
       "1     4275 2013-06-27 14:44:00 2013-06-27 14:45:00      77            64   \n",
       "2     4291 2013-06-27 14:58:00 2013-06-27 15:05:00      77           433   \n",
       "3     4316 2013-06-27 15:06:00 2013-06-27 15:09:00      77           123   \n",
       "4     4342 2013-06-27 15:13:00 2013-06-27 15:27:00      77           852   \n",
       "\n",
       "   from_station_id           from_station_name  to_station_id  \\\n",
       "0             42.0       Michigan Ave & Oak St          282.0   \n",
       "1             76.0  Racine Ave & Congress Pkwy           76.0   \n",
       "2             76.0  Racine Ave & Congress Pkwy          139.0   \n",
       "3            139.0       Loomis St & Taylor St          139.0   \n",
       "4            139.0       Loomis St & Taylor St          166.0   \n",
       "\n",
       "                    to_station_name  usertype gender  birthyear  \n",
       "0        Larrabee St & Menomonee St  Customer    NaN        NaN  \n",
       "1        Racine Ave & Congress Pkwy  Customer    NaN        NaN  \n",
       "2             Loomis St & Taylor St  Customer    NaN        NaN  \n",
       "3             Loomis St & Taylor St  Customer    NaN        NaN  \n",
       "4  Halsted St & James M Rochford St  Customer    NaN        NaN  "
      ]
     },
     "execution_count": 32,
     "metadata": {},
     "output_type": "execute_result"
    }
   ],
   "source": [
    "trips.head()"
   ]
  },
  {
   "cell_type": "code",
   "execution_count": 33,
   "metadata": {},
   "outputs": [
    {
     "data": {
      "text/plain": [
       "(759788, 12)"
      ]
     },
     "execution_count": 33,
     "metadata": {},
     "output_type": "execute_result"
    }
   ],
   "source": [
    "trips.shape"
   ]
  },
  {
   "cell_type": "code",
   "execution_count": 34,
   "metadata": {},
   "outputs": [
    {
     "name": "stdout",
     "output_type": "stream",
     "text": [
      "<class 'pandas.core.frame.DataFrame'>\n",
      "RangeIndex: 759788 entries, 0 to 759787\n",
      "Data columns (total 12 columns):\n",
      "trip_id              759788 non-null int64\n",
      "starttime            759788 non-null datetime64[ns]\n",
      "stoptime             759788 non-null datetime64[ns]\n",
      "bikeid               759788 non-null int64\n",
      "tripduration         759788 non-null int64\n",
      "from_station_id      758826 non-null float64\n",
      "from_station_name    759788 non-null object\n",
      "to_station_id        758829 non-null float64\n",
      "to_station_name      759788 non-null object\n",
      "usertype             759788 non-null object\n",
      "gender               403046 non-null object\n",
      "birthyear            402909 non-null float64\n",
      "dtypes: datetime64[ns](2), float64(3), int64(3), object(4)\n",
      "memory usage: 69.6+ MB\n"
     ]
    }
   ],
   "source": [
    "trips.info()"
   ]
  },
  {
   "cell_type": "code",
   "execution_count": 35,
   "metadata": {},
   "outputs": [
    {
     "data": {
      "text/html": [
       "<div>\n",
       "<style scoped>\n",
       "    .dataframe tbody tr th:only-of-type {\n",
       "        vertical-align: middle;\n",
       "    }\n",
       "\n",
       "    .dataframe tbody tr th {\n",
       "        vertical-align: top;\n",
       "    }\n",
       "\n",
       "    .dataframe thead th {\n",
       "        text-align: right;\n",
       "    }\n",
       "</style>\n",
       "<table border=\"1\" class=\"dataframe\">\n",
       "  <thead>\n",
       "    <tr style=\"text-align: right;\">\n",
       "      <th></th>\n",
       "      <th>name</th>\n",
       "      <th>latitude</th>\n",
       "      <th>longitude</th>\n",
       "      <th>dpcapacity</th>\n",
       "    </tr>\n",
       "  </thead>\n",
       "  <tbody>\n",
       "    <tr>\n",
       "      <th>0</th>\n",
       "      <td>State St &amp; Harrison St</td>\n",
       "      <td>41.873958</td>\n",
       "      <td>-87.627739</td>\n",
       "      <td>19</td>\n",
       "    </tr>\n",
       "    <tr>\n",
       "      <th>1</th>\n",
       "      <td>Wilton Ave &amp; Diversey Pkwy</td>\n",
       "      <td>41.932500</td>\n",
       "      <td>-87.652681</td>\n",
       "      <td>19</td>\n",
       "    </tr>\n",
       "    <tr>\n",
       "      <th>2</th>\n",
       "      <td>Morgan St &amp; 18th St</td>\n",
       "      <td>41.858086</td>\n",
       "      <td>-87.651073</td>\n",
       "      <td>15</td>\n",
       "    </tr>\n",
       "    <tr>\n",
       "      <th>3</th>\n",
       "      <td>Racine Ave &amp; 18th St</td>\n",
       "      <td>41.858181</td>\n",
       "      <td>-87.656487</td>\n",
       "      <td>15</td>\n",
       "    </tr>\n",
       "    <tr>\n",
       "      <th>4</th>\n",
       "      <td>Wood St &amp; North Ave</td>\n",
       "      <td>41.910329</td>\n",
       "      <td>-87.672516</td>\n",
       "      <td>15</td>\n",
       "    </tr>\n",
       "  </tbody>\n",
       "</table>\n",
       "</div>"
      ],
      "text/plain": [
       "                         name   latitude  longitude  dpcapacity\n",
       "0      State St & Harrison St  41.873958 -87.627739          19\n",
       "1  Wilton Ave & Diversey Pkwy  41.932500 -87.652681          19\n",
       "2         Morgan St & 18th St  41.858086 -87.651073          15\n",
       "3        Racine Ave & 18th St  41.858181 -87.656487          15\n",
       "4         Wood St & North Ave  41.910329 -87.672516          15"
      ]
     },
     "execution_count": 35,
     "metadata": {},
     "output_type": "execute_result"
    }
   ],
   "source": [
    "stations.head()"
   ]
  },
  {
   "cell_type": "code",
   "execution_count": 36,
   "metadata": {},
   "outputs": [
    {
     "data": {
      "text/plain": [
       "(300, 4)"
      ]
     },
     "execution_count": 36,
     "metadata": {},
     "output_type": "execute_result"
    }
   ],
   "source": [
    "stations.shape"
   ]
  },
  {
   "cell_type": "code",
   "execution_count": 37,
   "metadata": {},
   "outputs": [
    {
     "name": "stdout",
     "output_type": "stream",
     "text": [
      "<class 'pandas.core.frame.DataFrame'>\n",
      "RangeIndex: 300 entries, 0 to 299\n",
      "Data columns (total 4 columns):\n",
      "name          300 non-null object\n",
      "latitude      300 non-null float64\n",
      "longitude     300 non-null float64\n",
      "dpcapacity    300 non-null int64\n",
      "dtypes: float64(2), int64(1), object(1)\n",
      "memory usage: 9.5+ KB\n"
     ]
    }
   ],
   "source": [
    "stations.info()"
   ]
  },
  {
   "cell_type": "markdown",
   "metadata": {},
   "source": [
    "### 4.1)-LEFT JOIN"
   ]
  },
  {
   "cell_type": "code",
   "execution_count": 38,
   "metadata": {},
   "outputs": [
    {
     "name": "stdout",
     "output_type": "stream",
     "text": [
      "<class 'pandas.core.frame.DataFrame'>\n",
      "Int64Index: 759788 entries, 0 to 759787\n",
      "Data columns (total 16 columns):\n",
      "trip_id              759788 non-null int64\n",
      "starttime            759788 non-null datetime64[ns]\n",
      "stoptime             759788 non-null datetime64[ns]\n",
      "bikeid               759788 non-null int64\n",
      "tripduration         759788 non-null int64\n",
      "from_station_id      758826 non-null float64\n",
      "from_station_name    759788 non-null object\n",
      "to_station_id        758829 non-null float64\n",
      "to_station_name      759788 non-null object\n",
      "usertype             759788 non-null object\n",
      "gender               403046 non-null object\n",
      "birthyear            402909 non-null float64\n",
      "name                 759788 non-null object\n",
      "latitude             759788 non-null float64\n",
      "longitude            759788 non-null float64\n",
      "dpcapacity           759788 non-null int64\n",
      "dtypes: datetime64[ns](2), float64(5), int64(4), object(5)\n",
      "memory usage: 98.5+ MB\n"
     ]
    }
   ],
   "source": [
    "# CREATE TABLE divvy (\n",
    "#   SELECT *\n",
    "#   FROM trips\n",
    "#   LEFT JOIN stations\n",
    "#     ON trips.from_station_name = stations.name\n",
    "# );\n",
    "divvy = pd.merge(trips, stations, how='left', left_on='from_station_name', right_on='name')\n",
    "divvy.info()"
   ]
  },
  {
   "cell_type": "code",
   "execution_count": 39,
   "metadata": {},
   "outputs": [
    {
     "data": {
      "text/html": [
       "<div>\n",
       "<style scoped>\n",
       "    .dataframe tbody tr th:only-of-type {\n",
       "        vertical-align: middle;\n",
       "    }\n",
       "\n",
       "    .dataframe tbody tr th {\n",
       "        vertical-align: top;\n",
       "    }\n",
       "\n",
       "    .dataframe thead th {\n",
       "        text-align: right;\n",
       "    }\n",
       "</style>\n",
       "<table border=\"1\" class=\"dataframe\">\n",
       "  <thead>\n",
       "    <tr style=\"text-align: right;\">\n",
       "      <th></th>\n",
       "      <th>trip_id</th>\n",
       "      <th>starttime</th>\n",
       "      <th>stoptime</th>\n",
       "      <th>bikeid</th>\n",
       "      <th>tripduration</th>\n",
       "      <th>from_station_id</th>\n",
       "      <th>from_station_name</th>\n",
       "      <th>to_station_id</th>\n",
       "      <th>to_station_name</th>\n",
       "      <th>usertype</th>\n",
       "      <th>gender</th>\n",
       "      <th>birthyear</th>\n",
       "      <th>name</th>\n",
       "      <th>latitude</th>\n",
       "      <th>longitude</th>\n",
       "      <th>dpcapacity</th>\n",
       "    </tr>\n",
       "  </thead>\n",
       "  <tbody>\n",
       "    <tr>\n",
       "      <th>0</th>\n",
       "      <td>4118</td>\n",
       "      <td>2013-06-27 12:11:00</td>\n",
       "      <td>2013-06-27 12:16:00</td>\n",
       "      <td>480</td>\n",
       "      <td>316</td>\n",
       "      <td>42.0</td>\n",
       "      <td>Michigan Ave &amp; Oak St</td>\n",
       "      <td>282.0</td>\n",
       "      <td>Larrabee St &amp; Menomonee St</td>\n",
       "      <td>Customer</td>\n",
       "      <td>NaN</td>\n",
       "      <td>NaN</td>\n",
       "      <td>Michigan Ave &amp; Oak St</td>\n",
       "      <td>41.900960</td>\n",
       "      <td>-87.623777</td>\n",
       "      <td>15</td>\n",
       "    </tr>\n",
       "    <tr>\n",
       "      <th>1</th>\n",
       "      <td>4275</td>\n",
       "      <td>2013-06-27 14:44:00</td>\n",
       "      <td>2013-06-27 14:45:00</td>\n",
       "      <td>77</td>\n",
       "      <td>64</td>\n",
       "      <td>76.0</td>\n",
       "      <td>Racine Ave &amp; Congress Pkwy</td>\n",
       "      <td>76.0</td>\n",
       "      <td>Racine Ave &amp; Congress Pkwy</td>\n",
       "      <td>Customer</td>\n",
       "      <td>NaN</td>\n",
       "      <td>NaN</td>\n",
       "      <td>Racine Ave &amp; Congress Pkwy</td>\n",
       "      <td>41.874640</td>\n",
       "      <td>-87.657030</td>\n",
       "      <td>19</td>\n",
       "    </tr>\n",
       "    <tr>\n",
       "      <th>2</th>\n",
       "      <td>4291</td>\n",
       "      <td>2013-06-27 14:58:00</td>\n",
       "      <td>2013-06-27 15:05:00</td>\n",
       "      <td>77</td>\n",
       "      <td>433</td>\n",
       "      <td>76.0</td>\n",
       "      <td>Racine Ave &amp; Congress Pkwy</td>\n",
       "      <td>139.0</td>\n",
       "      <td>Loomis St &amp; Taylor St</td>\n",
       "      <td>Customer</td>\n",
       "      <td>NaN</td>\n",
       "      <td>NaN</td>\n",
       "      <td>Racine Ave &amp; Congress Pkwy</td>\n",
       "      <td>41.874640</td>\n",
       "      <td>-87.657030</td>\n",
       "      <td>19</td>\n",
       "    </tr>\n",
       "    <tr>\n",
       "      <th>3</th>\n",
       "      <td>4316</td>\n",
       "      <td>2013-06-27 15:06:00</td>\n",
       "      <td>2013-06-27 15:09:00</td>\n",
       "      <td>77</td>\n",
       "      <td>123</td>\n",
       "      <td>139.0</td>\n",
       "      <td>Loomis St &amp; Taylor St</td>\n",
       "      <td>139.0</td>\n",
       "      <td>Loomis St &amp; Taylor St</td>\n",
       "      <td>Customer</td>\n",
       "      <td>NaN</td>\n",
       "      <td>NaN</td>\n",
       "      <td>Loomis St &amp; Taylor St</td>\n",
       "      <td>41.869417</td>\n",
       "      <td>-87.660996</td>\n",
       "      <td>15</td>\n",
       "    </tr>\n",
       "    <tr>\n",
       "      <th>4</th>\n",
       "      <td>4342</td>\n",
       "      <td>2013-06-27 15:13:00</td>\n",
       "      <td>2013-06-27 15:27:00</td>\n",
       "      <td>77</td>\n",
       "      <td>852</td>\n",
       "      <td>139.0</td>\n",
       "      <td>Loomis St &amp; Taylor St</td>\n",
       "      <td>166.0</td>\n",
       "      <td>Halsted St &amp; James M Rochford St</td>\n",
       "      <td>Customer</td>\n",
       "      <td>NaN</td>\n",
       "      <td>NaN</td>\n",
       "      <td>Loomis St &amp; Taylor St</td>\n",
       "      <td>41.869417</td>\n",
       "      <td>-87.660996</td>\n",
       "      <td>15</td>\n",
       "    </tr>\n",
       "  </tbody>\n",
       "</table>\n",
       "</div>"
      ],
      "text/plain": [
       "   trip_id           starttime            stoptime  bikeid  tripduration  \\\n",
       "0     4118 2013-06-27 12:11:00 2013-06-27 12:16:00     480           316   \n",
       "1     4275 2013-06-27 14:44:00 2013-06-27 14:45:00      77            64   \n",
       "2     4291 2013-06-27 14:58:00 2013-06-27 15:05:00      77           433   \n",
       "3     4316 2013-06-27 15:06:00 2013-06-27 15:09:00      77           123   \n",
       "4     4342 2013-06-27 15:13:00 2013-06-27 15:27:00      77           852   \n",
       "\n",
       "   from_station_id           from_station_name  to_station_id  \\\n",
       "0             42.0       Michigan Ave & Oak St          282.0   \n",
       "1             76.0  Racine Ave & Congress Pkwy           76.0   \n",
       "2             76.0  Racine Ave & Congress Pkwy          139.0   \n",
       "3            139.0       Loomis St & Taylor St          139.0   \n",
       "4            139.0       Loomis St & Taylor St          166.0   \n",
       "\n",
       "                    to_station_name  usertype gender  birthyear  \\\n",
       "0        Larrabee St & Menomonee St  Customer    NaN        NaN   \n",
       "1        Racine Ave & Congress Pkwy  Customer    NaN        NaN   \n",
       "2             Loomis St & Taylor St  Customer    NaN        NaN   \n",
       "3             Loomis St & Taylor St  Customer    NaN        NaN   \n",
       "4  Halsted St & James M Rochford St  Customer    NaN        NaN   \n",
       "\n",
       "                         name   latitude  longitude  dpcapacity  \n",
       "0       Michigan Ave & Oak St  41.900960 -87.623777          15  \n",
       "1  Racine Ave & Congress Pkwy  41.874640 -87.657030          19  \n",
       "2  Racine Ave & Congress Pkwy  41.874640 -87.657030          19  \n",
       "3       Loomis St & Taylor St  41.869417 -87.660996          15  \n",
       "4       Loomis St & Taylor St  41.869417 -87.660996          15  "
      ]
     },
     "execution_count": 39,
     "metadata": {},
     "output_type": "execute_result"
    }
   ],
   "source": [
    "divvy.head()"
   ]
  },
  {
   "cell_type": "code",
   "execution_count": 40,
   "metadata": {},
   "outputs": [
    {
     "data": {
      "text/plain": [
       "(759788, 16)"
      ]
     },
     "execution_count": 40,
     "metadata": {},
     "output_type": "execute_result"
    }
   ],
   "source": [
    "divvy.shape"
   ]
  },
  {
   "cell_type": "markdown",
   "metadata": {},
   "source": [
    "from (759788, 12) to now (759788, 16). We have added more columns"
   ]
  },
  {
   "cell_type": "code",
   "execution_count": 41,
   "metadata": {},
   "outputs": [
    {
     "name": "stdout",
     "output_type": "stream",
     "text": [
      "<class 'pandas.core.frame.DataFrame'>\n",
      "Int64Index: 759788 entries, 0 to 759787\n",
      "Data columns (total 20 columns):\n",
      "trip_id              759788 non-null int64\n",
      "starttime            759788 non-null datetime64[ns]\n",
      "stoptime             759788 non-null datetime64[ns]\n",
      "bikeid               759788 non-null int64\n",
      "tripduration         759788 non-null int64\n",
      "from_station_id      758826 non-null float64\n",
      "from_station_name    759788 non-null object\n",
      "to_station_id        758829 non-null float64\n",
      "to_station_name      759788 non-null object\n",
      "usertype             759788 non-null object\n",
      "gender               403046 non-null object\n",
      "birthyear            402909 non-null float64\n",
      "name_origin          759788 non-null object\n",
      "latitude_origin      759788 non-null float64\n",
      "longitude_origin     759788 non-null float64\n",
      "dpcapacity_origin    759788 non-null int64\n",
      "name_dest            759788 non-null object\n",
      "latitude_dest        759788 non-null float64\n",
      "longitude_dest       759788 non-null float64\n",
      "dpcapacity_dest      759788 non-null int64\n",
      "dtypes: datetime64[ns](2), float64(7), int64(5), object(6)\n",
      "memory usage: 121.7+ MB\n"
     ]
    }
   ],
   "source": [
    "# SELECT trip_id, ... divvy.name AS name_origin ... stations.name AS name_dest\n",
    "# FROM divvy\n",
    "# INNER JOIN stations\n",
    "#   ON divvy.to_station_name = stations.name\n",
    "divvy = pd.merge(divvy, stations, how='inner', left_on='to_station_name', right_on='name', suffixes=['_origin', '_dest'])\n",
    "divvy.info()"
   ]
  },
  {
   "cell_type": "markdown",
   "metadata": {},
   "source": [
    "### 4.2)-concatenation"
   ]
  },
  {
   "cell_type": "code",
   "execution_count": 42,
   "metadata": {},
   "outputs": [],
   "source": [
    "df1 = pd.DataFrame({'a': np.random.randn(3), 'b': np.square(range(100,103))})\n",
    "df2 = pd.DataFrame({'a': [np.NaN, 11, 99], 'b': np.random.randn(3)})"
   ]
  },
  {
   "cell_type": "code",
   "execution_count": 43,
   "metadata": {},
   "outputs": [
    {
     "data": {
      "text/html": [
       "<div>\n",
       "<style scoped>\n",
       "    .dataframe tbody tr th:only-of-type {\n",
       "        vertical-align: middle;\n",
       "    }\n",
       "\n",
       "    .dataframe tbody tr th {\n",
       "        vertical-align: top;\n",
       "    }\n",
       "\n",
       "    .dataframe thead th {\n",
       "        text-align: right;\n",
       "    }\n",
       "</style>\n",
       "<table border=\"1\" class=\"dataframe\">\n",
       "  <thead>\n",
       "    <tr style=\"text-align: right;\">\n",
       "      <th></th>\n",
       "      <th>a</th>\n",
       "      <th>b</th>\n",
       "    </tr>\n",
       "  </thead>\n",
       "  <tbody>\n",
       "    <tr>\n",
       "      <th>0</th>\n",
       "      <td>0.718133</td>\n",
       "      <td>10000</td>\n",
       "    </tr>\n",
       "    <tr>\n",
       "      <th>1</th>\n",
       "      <td>0.900471</td>\n",
       "      <td>10201</td>\n",
       "    </tr>\n",
       "    <tr>\n",
       "      <th>2</th>\n",
       "      <td>-0.644123</td>\n",
       "      <td>10404</td>\n",
       "    </tr>\n",
       "  </tbody>\n",
       "</table>\n",
       "</div>"
      ],
      "text/plain": [
       "          a      b\n",
       "0  0.718133  10000\n",
       "1  0.900471  10201\n",
       "2 -0.644123  10404"
      ]
     },
     "execution_count": 43,
     "metadata": {},
     "output_type": "execute_result"
    }
   ],
   "source": [
    "df1"
   ]
  },
  {
   "cell_type": "code",
   "execution_count": 44,
   "metadata": {},
   "outputs": [
    {
     "data": {
      "text/html": [
       "<div>\n",
       "<style scoped>\n",
       "    .dataframe tbody tr th:only-of-type {\n",
       "        vertical-align: middle;\n",
       "    }\n",
       "\n",
       "    .dataframe tbody tr th {\n",
       "        vertical-align: top;\n",
       "    }\n",
       "\n",
       "    .dataframe thead th {\n",
       "        text-align: right;\n",
       "    }\n",
       "</style>\n",
       "<table border=\"1\" class=\"dataframe\">\n",
       "  <thead>\n",
       "    <tr style=\"text-align: right;\">\n",
       "      <th></th>\n",
       "      <th>a</th>\n",
       "      <th>b</th>\n",
       "    </tr>\n",
       "  </thead>\n",
       "  <tbody>\n",
       "    <tr>\n",
       "      <th>0</th>\n",
       "      <td>NaN</td>\n",
       "      <td>-1.138838</td>\n",
       "    </tr>\n",
       "    <tr>\n",
       "      <th>1</th>\n",
       "      <td>11.0</td>\n",
       "      <td>0.793336</td>\n",
       "    </tr>\n",
       "    <tr>\n",
       "      <th>2</th>\n",
       "      <td>99.0</td>\n",
       "      <td>-0.782377</td>\n",
       "    </tr>\n",
       "  </tbody>\n",
       "</table>\n",
       "</div>"
      ],
      "text/plain": [
       "      a         b\n",
       "0   NaN -1.138838\n",
       "1  11.0  0.793336\n",
       "2  99.0 -0.782377"
      ]
     },
     "execution_count": 44,
     "metadata": {},
     "output_type": "execute_result"
    }
   ],
   "source": [
    "df2"
   ]
  },
  {
   "cell_type": "code",
   "execution_count": 45,
   "metadata": {},
   "outputs": [
    {
     "data": {
      "text/html": [
       "<div>\n",
       "<style scoped>\n",
       "    .dataframe tbody tr th:only-of-type {\n",
       "        vertical-align: middle;\n",
       "    }\n",
       "\n",
       "    .dataframe tbody tr th {\n",
       "        vertical-align: top;\n",
       "    }\n",
       "\n",
       "    .dataframe thead th {\n",
       "        text-align: right;\n",
       "    }\n",
       "</style>\n",
       "<table border=\"1\" class=\"dataframe\">\n",
       "  <thead>\n",
       "    <tr style=\"text-align: right;\">\n",
       "      <th></th>\n",
       "      <th>a</th>\n",
       "      <th>b</th>\n",
       "    </tr>\n",
       "  </thead>\n",
       "  <tbody>\n",
       "    <tr>\n",
       "      <th>0</th>\n",
       "      <td>0.718133</td>\n",
       "      <td>10000.000000</td>\n",
       "    </tr>\n",
       "    <tr>\n",
       "      <th>1</th>\n",
       "      <td>0.900471</td>\n",
       "      <td>10201.000000</td>\n",
       "    </tr>\n",
       "    <tr>\n",
       "      <th>2</th>\n",
       "      <td>-0.644123</td>\n",
       "      <td>10404.000000</td>\n",
       "    </tr>\n",
       "    <tr>\n",
       "      <th>0</th>\n",
       "      <td>NaN</td>\n",
       "      <td>-1.138838</td>\n",
       "    </tr>\n",
       "    <tr>\n",
       "      <th>1</th>\n",
       "      <td>11.000000</td>\n",
       "      <td>0.793336</td>\n",
       "    </tr>\n",
       "    <tr>\n",
       "      <th>2</th>\n",
       "      <td>99.000000</td>\n",
       "      <td>-0.782377</td>\n",
       "    </tr>\n",
       "  </tbody>\n",
       "</table>\n",
       "</div>"
      ],
      "text/plain": [
       "           a             b\n",
       "0   0.718133  10000.000000\n",
       "1   0.900471  10201.000000\n",
       "2  -0.644123  10404.000000\n",
       "0        NaN     -1.138838\n",
       "1  11.000000      0.793336\n",
       "2  99.000000     -0.782377"
      ]
     },
     "execution_count": 45,
     "metadata": {},
     "output_type": "execute_result"
    }
   ],
   "source": [
    "# SELECT a, b\n",
    "# FROM df1\n",
    "# UNION\n",
    "# SELECT a, b\n",
    "# FROM df2;\n",
    "\n",
    "# takes a list, so you can pass 2+ dataframes\n",
    "# note that the indexes are the same\n",
    "pd.concat([df1, df2])"
   ]
  },
  {
   "cell_type": "markdown",
   "metadata": {},
   "source": [
    "### 4.3)- time series"
   ]
  },
  {
   "cell_type": "code",
   "execution_count": 46,
   "metadata": {},
   "outputs": [
    {
     "data": {
      "text/plain": [
       "2013-08-25 05:13:00    1\n",
       "2013-11-06 22:06:00    1\n",
       "2013-07-05 17:12:00    1\n",
       "Name: starttime, dtype: int64"
      ]
     },
     "execution_count": 46,
     "metadata": {},
     "output_type": "execute_result"
    }
   ],
   "source": [
    "# it's precise to the minute - want to see counts by nearest hour\n",
    "divvy.starttime.value_counts().sort_values()[:3]"
   ]
  },
  {
   "cell_type": "code",
   "execution_count": 47,
   "metadata": {},
   "outputs": [],
   "source": [
    "from datetime import timedelta\n",
    "\n",
    "def round_time(dt, mins=60):\n",
    "    \"\"\"\n",
    "    Rounds a datetime object to its nearest hour (by default).\n",
    "    (e.g. 2014-02-01 10:45:13 becomes 2014-02-01 11:00:00)\n",
    "    \"\"\"\n",
    "    dt += timedelta(minutes=mins/2.)\n",
    "    dt -= timedelta(minutes=dt.minute % mins, seconds=dt.second)\n",
    "    return dt"
   ]
  },
  {
   "cell_type": "code",
   "execution_count": 48,
   "metadata": {},
   "outputs": [],
   "source": [
    "divvy['starthour'] = divvy.starttime.apply(round_time)\n",
    "divvy['stophour'] = divvy.stoptime.apply(round_time)"
   ]
  },
  {
   "cell_type": "code",
   "execution_count": 49,
   "metadata": {},
   "outputs": [
    {
     "data": {
      "text/html": [
       "<div>\n",
       "<style scoped>\n",
       "    .dataframe tbody tr th:only-of-type {\n",
       "        vertical-align: middle;\n",
       "    }\n",
       "\n",
       "    .dataframe tbody tr th {\n",
       "        vertical-align: top;\n",
       "    }\n",
       "\n",
       "    .dataframe thead th {\n",
       "        text-align: right;\n",
       "    }\n",
       "</style>\n",
       "<table border=\"1\" class=\"dataframe\">\n",
       "  <thead>\n",
       "    <tr style=\"text-align: right;\">\n",
       "      <th></th>\n",
       "      <th>starttime</th>\n",
       "      <th>starthour</th>\n",
       "    </tr>\n",
       "  </thead>\n",
       "  <tbody>\n",
       "    <tr>\n",
       "      <th>0</th>\n",
       "      <td>2013-06-27 12:11:00</td>\n",
       "      <td>2013-06-27 12:00:00</td>\n",
       "    </tr>\n",
       "    <tr>\n",
       "      <th>1</th>\n",
       "      <td>2013-06-28 12:55:00</td>\n",
       "      <td>2013-06-28 13:00:00</td>\n",
       "    </tr>\n",
       "    <tr>\n",
       "      <th>2</th>\n",
       "      <td>2013-06-28 13:57:00</td>\n",
       "      <td>2013-06-28 14:00:00</td>\n",
       "    </tr>\n",
       "    <tr>\n",
       "      <th>3</th>\n",
       "      <td>2013-06-28 14:00:00</td>\n",
       "      <td>2013-06-28 14:00:00</td>\n",
       "    </tr>\n",
       "    <tr>\n",
       "      <th>4</th>\n",
       "      <td>2013-06-28 14:28:00</td>\n",
       "      <td>2013-06-28 14:00:00</td>\n",
       "    </tr>\n",
       "  </tbody>\n",
       "</table>\n",
       "</div>"
      ],
      "text/plain": [
       "            starttime           starthour\n",
       "0 2013-06-27 12:11:00 2013-06-27 12:00:00\n",
       "1 2013-06-28 12:55:00 2013-06-28 13:00:00\n",
       "2 2013-06-28 13:57:00 2013-06-28 14:00:00\n",
       "3 2013-06-28 14:00:00 2013-06-28 14:00:00\n",
       "4 2013-06-28 14:28:00 2013-06-28 14:00:00"
      ]
     },
     "execution_count": 49,
     "metadata": {},
     "output_type": "execute_result"
    }
   ],
   "source": [
    "divvy[['starttime', 'starthour']].head()"
   ]
  },
  {
   "cell_type": "markdown",
   "metadata": {},
   "source": [
    "# 5)- Grouping"
   ]
  },
  {
   "cell_type": "markdown",
   "metadata": {},
   "source": [
    "### 5.1)- Count vs Size"
   ]
  },
  {
   "cell_type": "code",
   "execution_count": 50,
   "metadata": {},
   "outputs": [
    {
     "data": {
      "text/plain": [
       "starthour\n",
       "2013-06-27 01:00:00      1\n",
       "2013-06-27 11:00:00      3\n",
       "2013-06-27 12:00:00      4\n",
       "2013-06-27 13:00:00      2\n",
       "2013-06-27 15:00:00     10\n",
       "2013-06-27 16:00:00      2\n",
       "2013-06-27 17:00:00      3\n",
       "2013-06-27 18:00:00      1\n",
       "2013-06-27 19:00:00     14\n",
       "2013-06-27 20:00:00     21\n",
       "2013-06-27 21:00:00      5\n",
       "2013-06-27 22:00:00     17\n",
       "2013-06-27 23:00:00      9\n",
       "2013-06-28 00:00:00      8\n",
       "2013-06-28 01:00:00      5\n",
       "2013-06-28 02:00:00      2\n",
       "2013-06-28 03:00:00      2\n",
       "2013-06-28 04:00:00      1\n",
       "2013-06-28 05:00:00      1\n",
       "2013-06-28 06:00:00      5\n",
       "2013-06-28 07:00:00     27\n",
       "2013-06-28 08:00:00     49\n",
       "2013-06-28 09:00:00     40\n",
       "2013-06-28 10:00:00     33\n",
       "2013-06-28 11:00:00     34\n",
       "2013-06-28 12:00:00     65\n",
       "2013-06-28 13:00:00     90\n",
       "2013-06-28 14:00:00     76\n",
       "2013-06-28 15:00:00     57\n",
       "2013-06-28 16:00:00     50\n",
       "                      ... \n",
       "2013-12-30 18:00:00    114\n",
       "2013-12-30 19:00:00     47\n",
       "2013-12-30 20:00:00     35\n",
       "2013-12-30 21:00:00     23\n",
       "2013-12-30 22:00:00      7\n",
       "2013-12-30 23:00:00      9\n",
       "2013-12-31 00:00:00      4\n",
       "2013-12-31 01:00:00      4\n",
       "2013-12-31 02:00:00      3\n",
       "2013-12-31 04:00:00      1\n",
       "2013-12-31 05:00:00      6\n",
       "2013-12-31 06:00:00     12\n",
       "2013-12-31 07:00:00     21\n",
       "2013-12-31 08:00:00     57\n",
       "2013-12-31 09:00:00     40\n",
       "2013-12-31 10:00:00     20\n",
       "2013-12-31 11:00:00     33\n",
       "2013-12-31 12:00:00     47\n",
       "2013-12-31 13:00:00     59\n",
       "2013-12-31 14:00:00     52\n",
       "2013-12-31 15:00:00     41\n",
       "2013-12-31 16:00:00     43\n",
       "2013-12-31 17:00:00     24\n",
       "2013-12-31 18:00:00     12\n",
       "2013-12-31 19:00:00      7\n",
       "2013-12-31 20:00:00      7\n",
       "2013-12-31 21:00:00      7\n",
       "2013-12-31 22:00:00     12\n",
       "2013-12-31 23:00:00      2\n",
       "2014-01-01 00:00:00      2\n",
       "Length: 4452, dtype: int64"
      ]
     },
     "execution_count": 50,
     "metadata": {},
     "output_type": "execute_result"
    }
   ],
   "source": [
    "# SELECT starthour, count(1)\n",
    "# FROM divvy\n",
    "# GROUP BY starthour\n",
    "divvy.groupby('starthour').size()"
   ]
  },
  {
   "cell_type": "markdown",
   "metadata": {},
   "source": [
    "##### starthour with longest mean trip duration"
   ]
  },
  {
   "cell_type": "code",
   "execution_count": 51,
   "metadata": {},
   "outputs": [
    {
     "data": {
      "text/plain": [
       "starthour\n",
       "2013-06-27 01:00:00    31177.0\n",
       "2013-06-28 02:00:00    28469.0\n",
       "2013-07-24 03:00:00    24593.0\n",
       "2013-12-18 02:00:00    22762.5\n",
       "2013-07-22 04:00:00    21118.0\n",
       "Name: tripduration, dtype: float64"
      ]
     },
     "execution_count": 51,
     "metadata": {},
     "output_type": "execute_result"
    }
   ],
   "source": [
    "# SELECT starthour, avg(tripduration)\n",
    "# FROM divvy\n",
    "# GROUP BY starthour\n",
    "# ORDER BY avg(tripduration) DESC\n",
    "# LIMIT 5\n",
    "divvy.groupby('starthour')['tripduration'].mean().sort_values(ascending=False)[:5]"
   ]
  },
  {
   "cell_type": "markdown",
   "metadata": {},
   "source": [
    "##### Count of unique birthyears with mean and median tripduration by usertype"
   ]
  },
  {
   "cell_type": "code",
   "execution_count": 52,
   "metadata": {},
   "outputs": [
    {
     "data": {
      "text/html": [
       "<div>\n",
       "<style scoped>\n",
       "    .dataframe tbody tr th:only-of-type {\n",
       "        vertical-align: middle;\n",
       "    }\n",
       "\n",
       "    .dataframe tbody tr th {\n",
       "        vertical-align: top;\n",
       "    }\n",
       "\n",
       "    .dataframe thead tr th {\n",
       "        text-align: left;\n",
       "    }\n",
       "\n",
       "    .dataframe thead tr:last-of-type th {\n",
       "        text-align: right;\n",
       "    }\n",
       "</style>\n",
       "<table border=\"1\" class=\"dataframe\">\n",
       "  <thead>\n",
       "    <tr>\n",
       "      <th></th>\n",
       "      <th>birthyear</th>\n",
       "      <th colspan=\"2\" halign=\"left\">tripduration</th>\n",
       "    </tr>\n",
       "    <tr>\n",
       "      <th></th>\n",
       "      <th>nunique</th>\n",
       "      <th>mean</th>\n",
       "      <th>median</th>\n",
       "    </tr>\n",
       "    <tr>\n",
       "      <th>usertype</th>\n",
       "      <th></th>\n",
       "      <th></th>\n",
       "      <th></th>\n",
       "    </tr>\n",
       "  </thead>\n",
       "  <tbody>\n",
       "    <tr>\n",
       "      <th>Customer</th>\n",
       "      <td>4.0</td>\n",
       "      <td>1824.054727</td>\n",
       "      <td>1257</td>\n",
       "    </tr>\n",
       "    <tr>\n",
       "      <th>Subscriber</th>\n",
       "      <td>68.0</td>\n",
       "      <td>722.018892</td>\n",
       "      <td>566</td>\n",
       "    </tr>\n",
       "  </tbody>\n",
       "</table>\n",
       "</div>"
      ],
      "text/plain": [
       "           birthyear tripduration       \n",
       "             nunique         mean median\n",
       "usertype                                \n",
       "Customer         4.0  1824.054727   1257\n",
       "Subscriber      68.0   722.018892    566"
      ]
     },
     "execution_count": 52,
     "metadata": {},
     "output_type": "execute_result"
    }
   ],
   "source": [
    "divvy.groupby('usertype').agg({'birthyear': pd.Series.nunique, 'tripduration': [np.mean, np.median]})"
   ]
  },
  {
   "cell_type": "markdown",
   "metadata": {},
   "source": [
    "# 6)- Visualization"
   ]
  },
  {
   "cell_type": "code",
   "execution_count": 53,
   "metadata": {},
   "outputs": [
    {
     "data": {
      "text/plain": [
       "<matplotlib.axes._subplots.AxesSubplot at 0x2975f9cd358>"
      ]
     },
     "execution_count": 53,
     "metadata": {},
     "output_type": "execute_result"
    },
    {
     "data": {
      "image/png": "[encoded data removed]",
      "text/plain": [
       "<matplotlib.figure.Figure at 0x2975f657c50>"
      ]
     },
     "metadata": {
      "needs_background": "light"
     },
     "output_type": "display_data"
    }
   ],
   "source": [
    "# number of trips started by starthour\n",
    "divvy.groupby('starthour').size().plot(figsize=(16,8))"
   ]
  },
  {
   "cell_type": "markdown",
   "metadata": {},
   "source": [
    "##### Distribution of trip duration"
   ]
  },
  {
   "cell_type": "code",
   "execution_count": 54,
   "metadata": {},
   "outputs": [
    {
     "data": {
      "image/png": "[encoded data removed]",
      "text/plain": [
       "<matplotlib.figure.Figure at 0x297624d19b0>"
      ]
     },
     "metadata": {
      "needs_background": "light"
     },
     "output_type": "display_data"
    }
   ],
   "source": [
    "divvy.tripduration.hist(figsize=(16,8), bins=1000)\n",
    "plt.xlim(0, 10000);"
   ]
  },
  {
   "cell_type": "markdown",
   "metadata": {},
   "source": [
    "##### cumulative distribution of trip duration."
   ]
  },
  {
   "cell_type": "code",
   "execution_count": 55,
   "metadata": {},
   "outputs": [
    {
     "data": {
      "text/plain": [
       "seconds\n",
       "408    712\n",
       "399    711\n",
       "346    706\n",
       "379    701\n",
       "415    700\n",
       "Name: trips, dtype: int64"
      ]
     },
     "execution_count": 55,
     "metadata": {},
     "output_type": "execute_result"
    }
   ],
   "source": [
    "duration_counts = divvy.tripduration.value_counts()\n",
    "duration_counts.index.name = 'seconds'\n",
    "duration_counts.name = 'trips'\n",
    "duration_counts.head()"
   ]
  },
  {
   "cell_type": "code",
   "execution_count": 56,
   "metadata": {},
   "outputs": [],
   "source": [
    "df = duration_counts.reset_index()\n",
    "df['minutes'] = df.seconds/60.\n",
    "df.set_index('minutes', inplace=True)"
   ]
  },
  {
   "cell_type": "code",
   "execution_count": 57,
   "metadata": {},
   "outputs": [
    {
     "data": {
      "image/png": "[encoded data removed]",
      "text/plain": [
       "<matplotlib.figure.Figure at 0x2975d8a74e0>"
      ]
     },
     "metadata": {
      "needs_background": "light"
     },
     "output_type": "display_data"
    }
   ],
   "source": [
    "(df.trips.cumsum() / df.trips.sum()).plot(figsize=(16,8))\n",
    "plt.xlim(0, 60)\n",
    "plt.yticks(np.arange(0, 1.1, 0.1));"
   ]
  },
  {
   "cell_type": "code",
   "execution_count": 58,
   "metadata": {},
   "outputs": [],
   "source": [
    "df = duration_counts.reset_index()\n",
    "df['minutes'] = df.seconds/60.\n",
    "df.set_index('minutes', inplace=True)\n",
    "df.sort_index(inplace=True)"
   ]
  },
  {
   "cell_type": "code",
   "execution_count": 59,
   "metadata": {},
   "outputs": [
    {
     "data": {
      "image/png": "[encoded data removed]",
      "text/plain": [
       "<matplotlib.figure.Figure at 0x2970ab30588>"
      ]
     },
     "metadata": {
      "needs_background": "light"
     },
     "output_type": "display_data"
    }
   ],
   "source": [
    "(df.trips.cumsum() / df.trips.sum()).plot(figsize=(16,8))\n",
    "plt.xlim(0, 60)\n",
    "plt.yticks(np.arange(0, 1.1, 0.1));"
   ]
  },
  {
   "cell_type": "markdown",
   "metadata": {},
   "source": [
    "##### Number of trips per birth year"
   ]
  },
  {
   "cell_type": "code",
   "execution_count": 60,
   "metadata": {},
   "outputs": [
    {
     "data": {
      "text/plain": [
       "<matplotlib.axes._subplots.AxesSubplot at 0x2970ab4c828>"
      ]
     },
     "execution_count": 60,
     "metadata": {},
     "output_type": "execute_result"
    },
    {
     "data": {
      "image/png": "[encoded data removed]",
      "text/plain": [
       "<matplotlib.figure.Figure at 0x2970ac52ac8>"
      ]
     },
     "metadata": {
      "needs_background": "light"
     },
     "output_type": "display_data"
    }
   ],
   "source": [
    "plt.figure(figsize=(9, 18))\n",
    "divvy.groupby('birthyear').size().sort_index().plot(kind='barh')"
   ]
  },
  {
   "cell_type": "code",
   "execution_count": 61,
   "metadata": {},
   "outputs": [
    {
     "data": {
      "image/png": "[encoded data removed]",
      "text/plain": [
       "<matplotlib.figure.Figure at 0x2970adc3208>"
      ]
     },
     "metadata": {
      "needs_background": "light"
     },
     "output_type": "display_data"
    }
   ],
   "source": [
    "divvy.groupby(divvy['starttime'].apply(lambda d: d.dayofweek))['trip_id'].count().plot(kind='bar')\n",
    "plt.title('Divvy trips by weekday') # 0 = Monday ...\n",
    "plt.xlabel('Weekday')\n",
    "plt.ylabel('# of trips started');"
   ]
  },
  {
   "cell_type": "markdown",
   "metadata": {},
   "source": [
    "##### gender comparison"
   ]
  },
  {
   "cell_type": "code",
   "execution_count": 62,
   "metadata": {},
   "outputs": [],
   "source": [
    "divvy['startdate'] = divvy.starthour.apply(lambda d: d.date())\n",
    "by_gender = divvy.groupby(['startdate', 'gender']).size()"
   ]
  },
  {
   "cell_type": "code",
   "execution_count": 63,
   "metadata": {},
   "outputs": [
    {
     "data": {
      "text/plain": [
       "startdate   gender\n",
       "2013-06-27  Female     14\n",
       "            Male       45\n",
       "2013-06-28  Female     75\n",
       "            Male      321\n",
       "2013-06-29  Female     42\n",
       "dtype: int64"
      ]
     },
     "execution_count": 63,
     "metadata": {},
     "output_type": "execute_result"
    }
   ],
   "source": [
    "by_gender.head()"
   ]
  },
  {
   "cell_type": "markdown",
   "metadata": {},
   "source": [
    "**Use unstack**"
   ]
  },
  {
   "cell_type": "code",
   "execution_count": 64,
   "metadata": {},
   "outputs": [
    {
     "data": {
      "text/html": [
       "<div>\n",
       "<style scoped>\n",
       "    .dataframe tbody tr th:only-of-type {\n",
       "        vertical-align: middle;\n",
       "    }\n",
       "\n",
       "    .dataframe tbody tr th {\n",
       "        vertical-align: top;\n",
       "    }\n",
       "\n",
       "    .dataframe thead th {\n",
       "        text-align: right;\n",
       "    }\n",
       "</style>\n",
       "<table border=\"1\" class=\"dataframe\">\n",
       "  <thead>\n",
       "    <tr style=\"text-align: right;\">\n",
       "      <th>gender</th>\n",
       "      <th>Female</th>\n",
       "      <th>Male</th>\n",
       "    </tr>\n",
       "    <tr>\n",
       "      <th>startdate</th>\n",
       "      <th></th>\n",
       "      <th></th>\n",
       "    </tr>\n",
       "  </thead>\n",
       "  <tbody>\n",
       "    <tr>\n",
       "      <th>2013-06-27</th>\n",
       "      <td>14.0</td>\n",
       "      <td>45.0</td>\n",
       "    </tr>\n",
       "    <tr>\n",
       "      <th>2013-06-28</th>\n",
       "      <td>75.0</td>\n",
       "      <td>321.0</td>\n",
       "    </tr>\n",
       "    <tr>\n",
       "      <th>2013-06-29</th>\n",
       "      <td>42.0</td>\n",
       "      <td>163.0</td>\n",
       "    </tr>\n",
       "    <tr>\n",
       "      <th>2013-06-30</th>\n",
       "      <td>47.0</td>\n",
       "      <td>180.0</td>\n",
       "    </tr>\n",
       "    <tr>\n",
       "      <th>2013-07-01</th>\n",
       "      <td>87.0</td>\n",
       "      <td>449.0</td>\n",
       "    </tr>\n",
       "  </tbody>\n",
       "</table>\n",
       "</div>"
      ],
      "text/plain": [
       "gender      Female   Male\n",
       "startdate                \n",
       "2013-06-27    14.0   45.0\n",
       "2013-06-28    75.0  321.0\n",
       "2013-06-29    42.0  163.0\n",
       "2013-06-30    47.0  180.0\n",
       "2013-07-01    87.0  449.0"
      ]
     },
     "execution_count": 64,
     "metadata": {},
     "output_type": "execute_result"
    }
   ],
   "source": [
    "by_gender.unstack(1).head()"
   ]
  },
  {
   "cell_type": "code",
   "execution_count": 65,
   "metadata": {},
   "outputs": [
    {
     "data": {
      "text/html": [
       "<div>\n",
       "<style scoped>\n",
       "    .dataframe tbody tr th:only-of-type {\n",
       "        vertical-align: middle;\n",
       "    }\n",
       "\n",
       "    .dataframe tbody tr th {\n",
       "        vertical-align: top;\n",
       "    }\n",
       "\n",
       "    .dataframe thead th {\n",
       "        text-align: right;\n",
       "    }\n",
       "</style>\n",
       "<table border=\"1\" class=\"dataframe\">\n",
       "  <thead>\n",
       "    <tr style=\"text-align: right;\">\n",
       "      <th>gender</th>\n",
       "      <th>Female</th>\n",
       "      <th>Male</th>\n",
       "    </tr>\n",
       "    <tr>\n",
       "      <th>startdate</th>\n",
       "      <th></th>\n",
       "      <th></th>\n",
       "    </tr>\n",
       "  </thead>\n",
       "  <tbody>\n",
       "    <tr>\n",
       "      <th>2013-06-27</th>\n",
       "      <td>14.0</td>\n",
       "      <td>45.0</td>\n",
       "    </tr>\n",
       "    <tr>\n",
       "      <th>2013-06-28</th>\n",
       "      <td>75.0</td>\n",
       "      <td>321.0</td>\n",
       "    </tr>\n",
       "    <tr>\n",
       "      <th>2013-06-29</th>\n",
       "      <td>42.0</td>\n",
       "      <td>163.0</td>\n",
       "    </tr>\n",
       "    <tr>\n",
       "      <th>2013-06-30</th>\n",
       "      <td>47.0</td>\n",
       "      <td>180.0</td>\n",
       "    </tr>\n",
       "    <tr>\n",
       "      <th>2013-07-01</th>\n",
       "      <td>87.0</td>\n",
       "      <td>449.0</td>\n",
       "    </tr>\n",
       "  </tbody>\n",
       "</table>\n",
       "</div>"
      ],
      "text/plain": [
       "gender      Female   Male\n",
       "startdate                \n",
       "2013-06-27    14.0   45.0\n",
       "2013-06-28    75.0  321.0\n",
       "2013-06-29    42.0  163.0\n",
       "2013-06-30    47.0  180.0\n",
       "2013-07-01    87.0  449.0"
      ]
     },
     "execution_count": 65,
     "metadata": {},
     "output_type": "execute_result"
    }
   ],
   "source": [
    "# SELECT startdate\n",
    "#    , COUNT(IF(gender = 'Female', 1, NULL))\n",
    "#    , COUNT(IF(gender = 'Male', 1, NULL))\n",
    "# FROM divvy\n",
    "# GROUP BY startdate\n",
    "# LIMIT 5;\n",
    "divvy.groupby(['startdate', 'gender']).size().unstack(1).head()"
   ]
  },
  {
   "cell_type": "code",
   "execution_count": 66,
   "metadata": {},
   "outputs": [
    {
     "data": {
      "text/plain": [
       "<matplotlib.axes._subplots.AxesSubplot at 0x2970ada6c88>"
      ]
     },
     "execution_count": 66,
     "metadata": {},
     "output_type": "execute_result"
    },
    {
     "data": {
      "image/png": "[encoded data removed]",
      "text/plain": [
       "<matplotlib.figure.Figure at 0x2970abd4240>"
      ]
     },
     "metadata": {
      "needs_background": "light"
     },
     "output_type": "display_data"
    }
   ],
   "source": [
    "by_gender.unstack(1).plot(figsize=(16,8))"
   ]
  },
  {
   "cell_type": "markdown",
   "metadata": {},
   "source": [
    "##### Consumer vs Subscriber"
   ]
  },
  {
   "cell_type": "code",
   "execution_count": 67,
   "metadata": {},
   "outputs": [
    {
     "data": {
      "image/png": "[encoded data removed]",
      "text/plain": [
       "<matplotlib.figure.Figure at 0x29769b40f60>"
      ]
     },
     "metadata": {
      "needs_background": "light"
     },
     "output_type": "display_data"
    }
   ],
   "source": [
    "divvy.groupby(['startdate', 'usertype']).size().unstack(1).plot(figsize=(16,8), subplots=True);"
   ]
  },
  {
   "cell_type": "markdown",
   "metadata": {},
   "source": [
    "##### Trips by weekday hour"
   ]
  },
  {
   "cell_type": "markdown",
   "metadata": {},
   "source": [
    "### MultiIndex"
   ]
  },
  {
   "cell_type": "code",
   "execution_count": 68,
   "metadata": {},
   "outputs": [],
   "source": [
    "weekdays = divvy['starttime'].apply(lambda d: d.dayofweek)\n",
    "hours = divvy['starttime'].apply(lambda d: d.hour)\n",
    "by_weekday_hour = divvy.groupby([weekdays, hours])['trip_id'].count()\n",
    "by_weekday_hour.index.names = ['weekday', 'hour'] "
   ]
  },
  {
   "cell_type": "code",
   "execution_count": 69,
   "metadata": {},
   "outputs": [
    {
     "data": {
      "image/png": "[encoded data removed]",
      "text/plain": [
       "<matplotlib.figure.Figure at 0x2975f1b1e80>"
      ]
     },
     "metadata": {
      "needs_background": "light"
     },
     "output_type": "display_data"
    }
   ],
   "source": [
    "by_weekday_hour.unstack(0).plot(figsize=(16,8))\n",
    "plt.title('Trips by weekday hour')\n",
    "plt.ylabel('# of trips started')\n",
    "plt.xlabel('Hour of day')\n",
    "plt.xticks(range(24))\n",
    "plt.xlim(0, 23);"
   ]
  }
 ],
 "metadata": {
  "kernelspec": {
   "display_name": "Python 3",
   "language": "python",
   "name": "python3"
  },
  "language_info": {
   "codemirror_mode": {
    "name": "ipython",
    "version": 3
   },
   "file_extension": ".py",
   "mimetype": "text/x-python",
   "name": "python",
   "nbconvert_exporter": "python",
   "pygments_lexer": "ipython3",
   "version": "3.6.3"
  }
 },
 "nbformat": 4,
 "nbformat_minor": 2
}
